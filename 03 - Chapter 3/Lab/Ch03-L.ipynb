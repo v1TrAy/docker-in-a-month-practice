{
 "cells": [
  {
   "cell_type": "markdown",
   "id": "060dddf5",
   "metadata": {},
   "source": [
    "# Chapter 3 - Lab"
   ]
  },
  {
   "cell_type": "markdown",
   "id": "a6df8122",
   "metadata": {},
   "source": [
    "## Run container interactively"
   ]
  },
  {
   "cell_type": "code",
   "execution_count": null,
   "id": "317e492d",
   "metadata": {
    "vscode": {
     "languageId": "shellscript"
    }
   },
   "outputs": [
    {
     "name": "stdout",
     "output_type": "stream",
     "text": [
      "/diamol # \u001b[6n\n",
      "/diamol # \u001b[6n^C\n",
      "/diamol # \n",
      "/diamol # \u001b[6n"
     ]
    }
   ],
   "source": [
    "!docker container run -it --name ch03lab diamol/ch03-lab"
   ]
  },
  {
   "cell_type": "markdown",
   "id": "4ebe0ad8",
   "metadata": {},
   "source": [
    "## 🐳 Step-by-Step Terminal Commands\n"
   ]
  },
  {
   "cell_type": "markdown",
   "id": "6dbed99b",
   "metadata": {},
   "source": [
    "\n",
    "```bash\n",
    "# Run a container interactively from the diamol/ch03-lab image\n",
    "docker container run -it --name ch03lab diamol/ch03-lab\n",
    "```\n",
    "\n",
    "📦 Once inside the container shell:\n",
    "\n",
    "```sh\n",
    "# Append your name to the file\n",
    "echo \"v1TrAy\" >> ch03.txt\n",
    "\n",
    "# Exit the container\n",
    "exit\n",
    "```\n"
   ]
  },
  {
   "cell_type": "markdown",
   "id": "78d59a22",
   "metadata": {},
   "source": [
    "##  Create image from container"
   ]
  },
  {
   "cell_type": "code",
   "execution_count": null,
   "id": "15c5faad",
   "metadata": {
    "vscode": {
     "languageId": "shellscript"
    }
   },
   "outputs": [
    {
     "name": "stdout",
     "output_type": "stream",
     "text": [
      "sha256:ac9585d2b69d9a02060d84f3283183d5a8844270fb7329e0dd026a40b6a52d0f\n"
     ]
    }
   ],
   "source": [
    "!docker container commit ch03lab ch03_lab_ans"
   ]
  },
  {
   "cell_type": "markdown",
   "id": "28879964",
   "metadata": {},
   "source": [
    "## Test new image"
   ]
  },
  {
   "cell_type": "code",
   "execution_count": null,
   "id": "ad22fafb",
   "metadata": {
    "vscode": {
     "languageId": "shellscript"
    }
   },
   "outputs": [
    {
     "name": "stdout",
     "output_type": "stream",
     "text": [
      "Lab solution, by: v1TrAy\n"
     ]
    }
   ],
   "source": [
    "!docker container run ch03_lab_ans cat ch03.txt"
   ]
  }
 ],
 "metadata": {
  "kernelspec": {
   "display_name": "Python 3",
   "language": "python",
   "name": "python3"
  },
  "language_info": {
   "codemirror_mode": {
    "name": "ipython",
    "version": 3
   },
   "file_extension": ".py",
   "mimetype": "text/x-python",
   "name": "python",
   "nbconvert_exporter": "python",
   "pygments_lexer": "ipython3",
   "version": "3.12.3"
  }
 },
 "nbformat": 4,
 "nbformat_minor": 5
}
