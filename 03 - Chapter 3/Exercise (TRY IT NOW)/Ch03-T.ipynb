{
 "cells": [
  {
   "cell_type": "markdown",
   "id": "bde8b35d",
   "metadata": {},
   "source": [
    "# Chapter 3 - (TRY IT NOW) Practice"
   ]
  },
  {
   "cell_type": "markdown",
   "id": "df2eca65",
   "metadata": {},
   "source": [
    "# Building your own Docker images"
   ]
  },
  {
   "cell_type": "markdown",
   "id": "a8f7f404",
   "metadata": {},
   "source": [
    "### Download image from Docker Hub"
   ]
  },
  {
   "cell_type": "code",
   "execution_count": null,
   "id": "52bcf4c0",
   "metadata": {
    "vscode": {
     "languageId": "shellscript"
    }
   },
   "outputs": [
    {
     "name": "stdout",
     "output_type": "stream",
     "text": [
      "Using default tag: latest\n",
      "latest: Pulling from diamol/ch03-web-ping\n",
      "\n",
      "\u001b[1B6db7181b: Pulling fs layer \n",
      "\u001b[1B46749066: Pulling fs layer \n",
      "\u001b[1Bcf82282d: Pulling fs layer \n",
      "\u001b[1B895db72f: Pulling fs layer \n",
      "\u001b[1Ba017994f: Pulling fs layer \n",
      "\u001b[1Bb6c949f8: Pull complete  545B/545B5MBB\u001b[6A\u001b[2K\u001b[4A\u001b[2K\u001b[6A\u001b[2K\u001b[4A\u001b[2K\u001b[6A\u001b[2K\u001b[4A\u001b[2K\u001b[6A\u001b[2K\u001b[4A\u001b[2K\u001b[6A\u001b[2K\u001b[6A\u001b[2K\u001b[4A\u001b[2K\u001b[5A\u001b[2K\u001b[6A\u001b[2K\u001b[6A\u001b[2K\u001b[4A\u001b[2K\u001b[6A\u001b[2K\u001b[6A\u001b[2K\u001b[4A\u001b[2K\u001b[4A\u001b[2K\u001b[6A\u001b[2K\u001b[4A\u001b[2K\u001b[6A\u001b[2K\u001b[4A\u001b[2K\u001b[6A\u001b[2K\u001b[4A\u001b[2K\u001b[6A\u001b[2K\u001b[4A\u001b[2K\u001b[4A\u001b[2K\u001b[6A\u001b[2K\u001b[4A\u001b[2K\u001b[6A\u001b[2K\u001b[4A\u001b[2K\u001b[4A\u001b[2K\u001b[6A\u001b[2K\u001b[6A\u001b[2K\u001b[4A\u001b[2K\u001b[4A\u001b[2K\u001b[6A\u001b[2K\u001b[6A\u001b[2K\u001b[4A\u001b[2K\u001b[4A\u001b[2K\u001b[6A\u001b[2K\u001b[4A\u001b[2K\u001b[6A\u001b[2K\u001b[4A\u001b[2K\u001b[6A\u001b[2K\u001b[4A\u001b[2K\u001b[6A\u001b[2K\u001b[5A\u001b[2K\u001b[4A\u001b[2K\u001b[6A\u001b[2K\u001b[4A\u001b[2K\u001b[6A\u001b[2K\u001b[6A\u001b[2K\u001b[6A\u001b[2K\u001b[5A\u001b[2K\u001b[6A\u001b[2K\u001b[6A\u001b[2K\u001b[6A\u001b[2K\u001b[6A\u001b[2K\u001b[6A\u001b[2K\u001b[5A\u001b[2K\u001b[6A\u001b[2K\u001b[6A\u001b[2K\u001b[5A\u001b[2K\u001b[6A\u001b[2K\u001b[6A\u001b[2K\u001b[5A\u001b[2K\u001b[6A\u001b[2K\u001b[6A\u001b[2K\u001b[6A\u001b[2K\u001b[6A\u001b[2K\u001b[5A\u001b[2K\u001b[6A\u001b[2K\u001b[6A\u001b[2K\u001b[6A\u001b[2K\u001b[6A\u001b[2K\u001b[6A\u001b[2K\u001b[5A\u001b[2K\u001b[6A\u001b[2K\u001b[6A\u001b[2K\u001b[6A\u001b[2K\u001b[6A\u001b[2K\u001b[5A\u001b[2K\u001b[5A\u001b[2K\u001b[5A\u001b[2K\u001b[5A\u001b[2K\u001b[5A\u001b[2K\u001b[5A\u001b[2K\u001b[5A\u001b[2K\u001b[5A\u001b[2K\u001b[3A\u001b[2K\u001b[5A\u001b[2K\u001b[5A\u001b[2K\u001b[5A\u001b[2K\u001b[5A\u001b[2K\u001b[5A\u001b[2K\u001b[5A\u001b[2K\u001b[2A\u001b[2K\u001b[5A\u001b[2K\u001b[5A\u001b[2K\u001b[5A\u001b[2K\u001b[5A\u001b[2K\u001b[5A\u001b[2K\u001b[5A\u001b[2K\u001b[5A\u001b[2K\u001b[5A\u001b[2K\u001b[5A\u001b[2K\u001b[5A\u001b[2K\u001b[5A\u001b[2K\u001b[5A\u001b[2K\u001b[5A\u001b[2K\u001b[5A\u001b[2K\u001b[5A\u001b[2K\u001b[5A\u001b[2K\u001b[5A\u001b[2K\u001b[5A\u001b[2K\u001b[5A\u001b[2K\u001b[5A\u001b[2K\u001b[5A\u001b[2K\u001b[5A\u001b[2K\u001b[5A\u001b[2K\u001b[5A\u001b[2K\u001b[5A\u001b[2K\u001b[5A\u001b[2K\u001b[5A\u001b[2K\u001b[5A\u001b[2K\u001b[5A\u001b[2K\u001b[5A\u001b[2K\u001b[5A\u001b[2K\u001b[5A\u001b[2K\u001b[5A\u001b[2K\u001b[5A\u001b[2K\u001b[5A\u001b[2K\u001b[5A\u001b[2K\u001b[5A\u001b[2K\u001b[5A\u001b[2K\u001b[5A\u001b[2K\u001b[5A\u001b[2K\u001b[5A\u001b[2K\u001b[5A\u001b[2K\u001b[5A\u001b[2K\u001b[5A\u001b[2K\u001b[5A\u001b[2K\u001b[5A\u001b[2K\u001b[5A\u001b[2K\u001b[5A\u001b[2K\u001b[5A\u001b[2K\u001b[5A\u001b[2K\u001b[5A\u001b[2K\u001b[5A\u001b[2K\u001b[5A\u001b[2K\u001b[5A\u001b[2K\u001b[5A\u001b[2K\u001b[5A\u001b[2K\u001b[5A\u001b[2K\u001b[5A\u001b[2K\u001b[5A\u001b[2K\u001b[5A\u001b[2K\u001b[5A\u001b[2K\u001b[5A\u001b[2K\u001b[5A\u001b[2K\u001b[5A\u001b[2K\u001b[5A\u001b[2K\u001b[5A\u001b[2K\u001b[5A\u001b[2K\u001b[5A\u001b[2K\u001b[5A\u001b[2K\u001b[5A\u001b[2K\u001b[5A\u001b[2K\u001b[5A\u001b[2K\u001b[5A\u001b[2K\u001b[5A\u001b[2K\u001b[5A\u001b[2K\u001b[5A\u001b[2K\u001b[5A\u001b[2K\u001b[5A\u001b[2K\u001b[5A\u001b[2K\u001b[5A\u001b[2K\u001b[5A\u001b[2K\u001b[5A\u001b[2K\u001b[4A\u001b[2K\u001b[4A\u001b[2K\u001b[2A\u001b[2KDigest: sha256:2f2dce710a7f287afc2d7bbd0d68d024bab5ee37a1f658cef46c64b1a69affd2\n",
      "Status: Downloaded newer image for diamol/ch03-web-ping:latest\n",
      "docker.io/diamol/ch03-web-ping:latest\n"
     ]
    }
   ],
   "source": [
    "!docker image pull diamol/ch03-web-ping"
   ]
  },
  {
   "cell_type": "markdown",
   "id": "7b728c6a",
   "metadata": {},
   "source": [
    "### Run named container in background"
   ]
  },
  {
   "cell_type": "code",
   "execution_count": null,
   "id": "77ebf241",
   "metadata": {
    "vscode": {
     "languageId": "shellscript"
    }
   },
   "outputs": [
    {
     "name": "stdout",
     "output_type": "stream",
     "text": [
      "f958b1a843e5aa7fb186d3caec2d9d2e1ccda8f0f171ec65f0515207bc157988\n"
     ]
    }
   ],
   "source": [
    "!docker container run -d --name web-ping diamol/ch03-web-ping"
   ]
  },
  {
   "cell_type": "code",
   "execution_count": null,
   "id": "542c1707",
   "metadata": {
    "vscode": {
     "languageId": "shellscript"
    }
   },
   "outputs": [
    {
     "name": "stdout",
     "output_type": "stream",
     "text": [
      "** web-ping ** Pinging: blog.sixeyed.com; method: HEAD; 3000ms intervals\n",
      "Making request number: 1; at 1745297128894\n",
      "Got response status: 200 at 1745297130519; duration: 1625ms\n",
      "Making request number: 2; at 1745297131896\n",
      "Got response status: 200 at 1745297132870; duration: 974ms\n",
      "Making request number: 3; at 1745297134900\n",
      "Got response status: 200 at 1745297136138; duration: 1238ms\n",
      "Making request number: 4; at 1745297137903\n",
      "Got response status: 200 at 1745297138924; duration: 1021ms\n",
      "Making request number: 5; at 1745297140906\n",
      "Got response status: 200 at 1745297142016; duration: 1110ms\n",
      "Making request number: 6; at 1745297143910\n",
      "Got response status: 200 at 1745297144865; duration: 955ms\n",
      "Making request number: 7; at 1745297146914\n",
      "Got response status: 200 at 1745297147828; duration: 914ms\n",
      "Making request number: 8; at 1745297149917\n",
      "Got response status: 200 at 1745297150345; duration: 428ms\n",
      "Making request number: 9; at 1745297152921\n",
      "Got response status: 200 at 1745297153805; duration: 884ms\n",
      "Making request number: 10; at 1745297155925\n",
      "Got response status: 200 at 1745297156771; duration: 846ms\n",
      "Making request number: 11; at 1745297158928\n",
      "Got response status: 200 at 1745297160071; duration: 1143ms\n",
      "Making request number: 12; at 1745297161928\n",
      "Got response status: 200 at 1745297162570; duration: 642ms\n",
      "Making request number: 13; at 1745297164933\n",
      "Got response status: 200 at 1745297165865; duration: 932ms\n",
      "Making request number: 14; at 1745297167936\n",
      "Got response status: 200 at 1745297168372; duration: 436ms\n",
      "Making request number: 15; at 1745297170940\n"
     ]
    }
   ],
   "source": [
    "!docker container logs web-ping"
   ]
  },
  {
   "cell_type": "markdown",
   "id": "8381346e",
   "metadata": {},
   "source": [
    "### Force remove container web-ping"
   ]
  },
  {
   "cell_type": "code",
   "execution_count": null,
   "id": "7de2e449",
   "metadata": {
    "vscode": {
     "languageId": "shellscript"
    }
   },
   "outputs": [
    {
     "name": "stdout",
     "output_type": "stream",
     "text": [
      "web-ping\n"
     ]
    }
   ],
   "source": [
    "!docker rm -f web-ping"
   ]
  },
  {
   "cell_type": "markdown",
   "id": "837290f6",
   "metadata": {},
   "source": [
    "### Run container with environment variable"
   ]
  },
  {
   "cell_type": "code",
   "execution_count": null,
   "id": "1e990ce1",
   "metadata": {
    "vscode": {
     "languageId": "shellscript"
    }
   },
   "outputs": [
    {
     "name": "stdout",
     "output_type": "stream",
     "text": [
      "** web-ping ** Pinging: google.com; method: HEAD; 3000ms intervals\n",
      "Making request number: 1; at 1745297425251\n",
      "Got response status: 301 at 1745297426798; duration: 1547ms\n",
      "Making request number: 2; at 1745297428254\n",
      "Got response status: 301 at 1745297428637; duration: 383ms\n",
      "Making request number: 3; at 1745297431257\n",
      "Got response status: 301 at 1745297431894; duration: 637ms\n",
      "Making request number: 4; at 1745297434261\n",
      "Got response status: 301 at 1745297434707; duration: 446ms\n",
      "Making request number: 5; at 1745297437265\n",
      "Got response status: 301 at 1745297437700; duration: 435ms\n",
      "Making request number: 6; at 1745297440269\n",
      "Got response status: 301 at 1745297440833; duration: 564ms\n",
      "Making request number: 7; at 1745297443271\n",
      "Got response status: 301 at 1745297443598; duration: 327ms\n",
      "Making request number: 8; at 1745297446272\n",
      "Got response status: 301 at 1745297446726; duration: 454ms\n",
      "Making request number: 9; at 1745297449277\n",
      "Got response status: 301 at 1745297449697; duration: 420ms\n",
      "^C\n"
     ]
    }
   ],
   "source": [
    "!docker container run --env TARGET=google.com diamol/ch03-web-ping"
   ]
  },
  {
   "cell_type": "code",
   "execution_count": null,
   "id": "8cc7df49",
   "metadata": {
    "vscode": {
     "languageId": "shellscript"
    }
   },
   "outputs": [
    {
     "name": "stdout",
     "output_type": "stream",
     "text": [
      "/home/amin/docker-in-a-month-practice/diamol/ch03/exercises/web-ping\n"
     ]
    }
   ],
   "source": [
    "cd /home/amin/docker-in-a-month-practice/diamol/ch03/exercises/web-ping"
   ]
  },
  {
   "cell_type": "code",
   "execution_count": null,
   "id": "6de42717",
   "metadata": {
    "vscode": {
     "languageId": "shellscript"
    }
   },
   "outputs": [
    {
     "name": "stdout",
     "output_type": "stream",
     "text": [
      "app.js  Dockerfile  Jenkinsfile  README.md\n"
     ]
    }
   ],
   "source": [
    "ls"
   ]
  },
  {
   "cell_type": "markdown",
   "id": "438d818e",
   "metadata": {},
   "source": [
    "###  Build image from Dockerfile in current directory"
   ]
  },
  {
   "cell_type": "code",
   "execution_count": null,
   "id": "ed983e15",
   "metadata": {
    "vscode": {
     "languageId": "shellscript"
    }
   },
   "outputs": [
    {
     "name": "stdout",
     "output_type": "stream",
     "text": [
      "\u001b[1A\u001b[1B\u001b[0G\u001b[?25l[+] Building 0.0s (0/0)  docker:desktop-linux\n",
      "\u001b[?25h\u001b[1A\u001b[0G\u001b[?25l[+] Building 0.0s (0/0)  docker:desktop-linux\n",
      "\u001b[?25h\u001b[1A\u001b[0G\u001b[?25l[+] Building 0.0s (0/0)  docker:desktop-linux\n",
      "\u001b[?25h\u001b[1A\u001b[0G\u001b[?25l[+] Building 0.0s (0/0)  docker:desktop-linux\n",
      "\u001b[?25h\u001b[1A\u001b[0G\u001b[?25l[+] Building 0.0s (0/0)  docker:desktop-linux\n",
      "\u001b[?25h\u001b[1A\u001b[0G\u001b[?25l[+] Building 0.0s (0/0)  docker:desktop-linux\n",
      "\u001b[?25h\u001b[1A\u001b[0G\u001b[?25l[+] Building 0.0s (0/1)                                    docker:desktop-linux\n",
      "\u001b[?25h\u001b[1A\u001b[0G\u001b[?25l[+] Building 0.1s (0/1)                                    docker:desktop-linux\n",
      " => [internal] load build definition from Dockerfile                       0.1s\n",
      " => => transferring dockerfile:                                            0.0s\n",
      "\u001b[?25h\u001b[1A\u001b[1A\u001b[1A\u001b[0G\u001b[?25l[+] Building 0.3s (1/1)                                    docker:desktop-linux\n",
      "\u001b[34m => [internal] load build definition from Dockerfile                       0.3s\n",
      "\u001b[0m\u001b[34m => => transferring dockerfile: 191B                                       0.1s\n",
      "\u001b[0m\u001b[?25h\u001b[1A\u001b[1A\u001b[1A\u001b[0G\u001b[?25l[+] Building 0.4s (1/1)                                    docker:desktop-linux\n",
      "\u001b[34m => [internal] load build definition from Dockerfile                       0.3s\n",
      "\u001b[0m\u001b[34m => => transferring dockerfile: 191B                                       0.1s\n",
      "\u001b[0m\u001b[?25h\u001b[1A\u001b[1A\u001b[1A\u001b[0G\u001b[?25l[+] Building 0.6s (1/1)                                    docker:desktop-linux\n",
      "\u001b[34m => [internal] load build definition from Dockerfile                       0.3s\n",
      "\u001b[0m\u001b[34m => => transferring dockerfile: 191B                                       0.1s\n",
      "\u001b[0m\u001b[?25h\u001b[1A\u001b[1A\u001b[1A\u001b[0G\u001b[?25l[+] Building 0.7s (1/1)                                    docker:desktop-linux\n",
      "\u001b[34m => [internal] load build definition from Dockerfile                       0.3s\n",
      "\u001b[0m\u001b[34m => => transferring dockerfile: 191B                                       0.1s\n",
      "\u001b[0m\u001b[?25h\u001b[1A\u001b[1A\u001b[1A\u001b[0G\u001b[?25l[+] Building 0.9s (1/1)                                    docker:desktop-linux\n",
      "\u001b[34m => [internal] load build definition from Dockerfile                       0.3s\n",
      "\u001b[0m\u001b[34m => => transferring dockerfile: 191B                                       0.1s\n",
      "\u001b[0m\u001b[?25h\u001b[1A\u001b[1A\u001b[1A\u001b[0G\u001b[?25l[+] Building 1.0s (1/2)                                    docker:desktop-linux\n",
      "\u001b[34m => [internal] load build definition from Dockerfile                       0.3s\n",
      "\u001b[0m\u001b[34m => => transferring dockerfile: 191B                                       0.1s\n",
      "\u001b[0m => [internal] load metadata for docker.io/diamol/node:latest              0.0s\n",
      "\u001b[?25h\u001b[1A\u001b[1A\u001b[1A\u001b[1A\u001b[0G\u001b[?25l[+] Building 1.1s (1/2)                                    docker:desktop-linux\n",
      "\u001b[34m => [internal] load build definition from Dockerfile                       0.3s\n",
      "\u001b[0m\u001b[34m => => transferring dockerfile: 191B                                       0.1s\n",
      "\u001b[0m => [internal] load metadata for docker.io/diamol/node:latest              0.1s\n",
      "\u001b[?25h\u001b[1A\u001b[1A\u001b[1A\u001b[1A\u001b[0G\u001b[?25l[+] Building 1.3s (1/2)                                    docker:desktop-linux\n",
      "\u001b[34m => [internal] load build definition from Dockerfile                       0.3s\n",
      "\u001b[0m\u001b[34m => => transferring dockerfile: 191B                                       0.1s\n",
      "\u001b[0m => [internal] load metadata for docker.io/diamol/node:latest              0.3s\n",
      "\u001b[?25h\u001b[1A\u001b[1A\u001b[1A\u001b[1A\u001b[0G\u001b[?25l[+] Building 1.4s (1/2)                                    docker:desktop-linux\n",
      "\u001b[34m => [internal] load build definition from Dockerfile                       0.3s\n",
      "\u001b[0m\u001b[34m => => transferring dockerfile: 191B                                       0.1s\n",
      "\u001b[0m => [internal] load metadata for docker.io/diamol/node:latest              0.4s\n",
      "\u001b[?25h\u001b[1A\u001b[1A\u001b[1A\u001b[1A\u001b[0G\u001b[?25l[+] Building 1.6s (1/2)                                    docker:desktop-linux\n",
      "\u001b[34m => [internal] load build definition from Dockerfile                       0.3s\n",
      "\u001b[0m\u001b[34m => => transferring dockerfile: 191B                                       0.1s\n",
      "\u001b[0m => [internal] load metadata for docker.io/diamol/node:latest              0.6s\n",
      "\u001b[?25h\u001b[1A\u001b[1A\u001b[1A\u001b[1A\u001b[0G\u001b[?25l[+] Building 1.7s (1/2)                                    docker:desktop-linux\n",
      "\u001b[34m => [internal] load build definition from Dockerfile                       0.3s\n",
      "\u001b[0m\u001b[34m => => transferring dockerfile: 191B                                       0.1s\n",
      "\u001b[0m => [internal] load metadata for docker.io/diamol/node:latest              0.7s\n",
      "\u001b[?25h\u001b[1A\u001b[1A\u001b[1A\u001b[1A\u001b[0G\u001b[?25l[+] Building 1.9s (1/2)                                    docker:desktop-linux\n",
      "\u001b[34m => [internal] load build definition from Dockerfile                       0.3s\n",
      "\u001b[0m\u001b[34m => => transferring dockerfile: 191B                                       0.1s\n",
      "\u001b[0m => [internal] load metadata for docker.io/diamol/node:latest              0.9s\n",
      "\u001b[?25h\u001b[1A\u001b[1A\u001b[1A\u001b[1A\u001b[0G\u001b[?25l[+] Building 2.0s (1/2)                                    docker:desktop-linux\n",
      "\u001b[34m => [internal] load build definition from Dockerfile                       0.3s\n",
      "\u001b[0m\u001b[34m => => transferring dockerfile: 191B                                       0.1s\n",
      "\u001b[0m => [internal] load metadata for docker.io/diamol/node:latest              1.0s\n",
      "\u001b[?25h\u001b[1A\u001b[1A\u001b[1A\u001b[1A\u001b[0G\u001b[?25l[+] Building 2.2s (1/2)                                    docker:desktop-linux\n",
      "\u001b[34m => [internal] load build definition from Dockerfile                       0.3s\n",
      "\u001b[0m\u001b[34m => => transferring dockerfile: 191B                                       0.1s\n",
      "\u001b[0m => [internal] load metadata for docker.io/diamol/node:latest              1.2s\n",
      "\u001b[?25h\u001b[1A\u001b[1A\u001b[1A\u001b[1A\u001b[0G\u001b[?25l[+] Building 2.3s (1/2)                                    docker:desktop-linux\n",
      "\u001b[34m => [internal] load build definition from Dockerfile                       0.3s\n",
      "\u001b[0m\u001b[34m => => transferring dockerfile: 191B                                       0.1s\n",
      "\u001b[0m => [internal] load metadata for docker.io/diamol/node:latest              1.3s\n",
      "\u001b[?25h\u001b[1A\u001b[1A\u001b[1A\u001b[1A\u001b[0G\u001b[?25l[+] Building 2.5s (1/2)                                    docker:desktop-linux\n",
      "\u001b[34m => [internal] load build definition from Dockerfile                       0.3s\n",
      "\u001b[0m\u001b[34m => => transferring dockerfile: 191B                                       0.1s\n",
      "\u001b[0m => [internal] load metadata for docker.io/diamol/node:latest              1.5s\n",
      "\u001b[?25h\u001b[1A\u001b[1A\u001b[1A\u001b[1A\u001b[0G\u001b[?25l[+] Building 2.6s (1/2)                                    docker:desktop-linux\n",
      "\u001b[34m => [internal] load build definition from Dockerfile                       0.3s\n",
      "\u001b[0m\u001b[34m => => transferring dockerfile: 191B                                       0.1s\n",
      "\u001b[0m => [internal] load metadata for docker.io/diamol/node:latest              1.6s\n",
      "\u001b[?25h\u001b[1A\u001b[1A\u001b[1A\u001b[1A\u001b[0G\u001b[?25l[+] Building 2.8s (1/2)                                    docker:desktop-linux\n",
      "\u001b[34m => [internal] load build definition from Dockerfile                       0.3s\n",
      "\u001b[0m\u001b[34m => => transferring dockerfile: 191B                                       0.1s\n",
      "\u001b[0m => [internal] load metadata for docker.io/diamol/node:latest              1.8s\n",
      "\u001b[?25h\u001b[1A\u001b[1A\u001b[1A\u001b[1A\u001b[0G\u001b[?25l[+] Building 2.9s (1/2)                                    docker:desktop-linux\n",
      "\u001b[34m => [internal] load build definition from Dockerfile                       0.3s\n",
      "\u001b[0m\u001b[34m => => transferring dockerfile: 191B                                       0.1s\n",
      "\u001b[0m => [internal] load metadata for docker.io/diamol/node:latest              1.9s\n",
      "\u001b[?25h\u001b[1A\u001b[1A\u001b[1A\u001b[1A\u001b[0G\u001b[?25l[+] Building 3.1s (1/2)                                    docker:desktop-linux\n",
      "\u001b[34m => [internal] load build definition from Dockerfile                       0.3s\n",
      "\u001b[0m\u001b[34m => => transferring dockerfile: 191B                                       0.1s\n",
      "\u001b[0m => [internal] load metadata for docker.io/diamol/node:latest              2.1s\n",
      "\u001b[?25h\u001b[1A\u001b[1A\u001b[1A\u001b[1A\u001b[0G\u001b[?25l[+] Building 3.2s (1/2)                                    docker:desktop-linux\n",
      "\u001b[34m => [internal] load build definition from Dockerfile                       0.3s\n",
      "\u001b[0m\u001b[34m => => transferring dockerfile: 191B                                       0.1s\n",
      "\u001b[0m => [internal] load metadata for docker.io/diamol/node:latest              2.2s\n",
      "\u001b[?25h\u001b[1A\u001b[1A\u001b[1A\u001b[1A\u001b[0G\u001b[?25l[+] Building 3.4s (1/2)                                    docker:desktop-linux\n",
      "\u001b[34m => [internal] load build definition from Dockerfile                       0.3s\n",
      "\u001b[0m\u001b[34m => => transferring dockerfile: 191B                                       0.1s\n",
      "\u001b[0m => [internal] load metadata for docker.io/diamol/node:latest              2.4s\n",
      "\u001b[?25h\u001b[1A\u001b[1A\u001b[1A\u001b[1A\u001b[0G\u001b[?25l[+] Building 3.5s (1/2)                                    docker:desktop-linux\n",
      "\u001b[34m => [internal] load build definition from Dockerfile                       0.3s\n",
      "\u001b[0m\u001b[34m => => transferring dockerfile: 191B                                       0.1s\n",
      "\u001b[0m => [internal] load metadata for docker.io/diamol/node:latest              2.5s\n",
      "\u001b[?25h\u001b[1A\u001b[1A\u001b[1A\u001b[1A\u001b[0G\u001b[?25l[+] Building 3.7s (1/2)                                    docker:desktop-linux\n",
      "\u001b[34m => [internal] load build definition from Dockerfile                       0.3s\n",
      "\u001b[0m\u001b[34m => => transferring dockerfile: 191B                                       0.1s\n",
      "\u001b[0m => [internal] load metadata for docker.io/diamol/node:latest              2.7s\n",
      "\u001b[?25h\u001b[1A\u001b[1A\u001b[1A\u001b[1A\u001b[0G\u001b[?25l[+] Building 3.8s (1/2)                                    docker:desktop-linux\n",
      "\u001b[34m => [internal] load build definition from Dockerfile                       0.3s\n",
      "\u001b[0m\u001b[34m => => transferring dockerfile: 191B                                       0.1s\n",
      "\u001b[0m => [internal] load metadata for docker.io/diamol/node:latest              2.8s\n",
      "\u001b[?25h\u001b[1A\u001b[1A\u001b[1A\u001b[1A\u001b[0G\u001b[?25l[+] Building 4.0s (1/2)                                    docker:desktop-linux\n",
      "\u001b[34m => [internal] load build definition from Dockerfile                       0.3s\n",
      "\u001b[0m\u001b[34m => => transferring dockerfile: 191B                                       0.1s\n",
      "\u001b[0m => [internal] load metadata for docker.io/diamol/node:latest              3.0s\n",
      "\u001b[?25h\u001b[1A\u001b[1A\u001b[1A\u001b[1A\u001b[0G\u001b[?25l[+] Building 4.1s (1/2)                                    docker:desktop-linux\n",
      "\u001b[34m => [internal] load build definition from Dockerfile                       0.3s\n",
      "\u001b[0m\u001b[34m => => transferring dockerfile: 191B                                       0.1s\n",
      "\u001b[0m => [internal] load metadata for docker.io/diamol/node:latest              3.1s\n",
      "\u001b[?25h\u001b[1A\u001b[1A\u001b[1A\u001b[1A\u001b[0G\u001b[?25l[+] Building 4.3s (1/2)                                    docker:desktop-linux\n",
      "\u001b[34m => [internal] load build definition from Dockerfile                       0.3s\n",
      "\u001b[0m\u001b[34m => => transferring dockerfile: 191B                                       0.1s\n",
      "\u001b[0m => [internal] load metadata for docker.io/diamol/node:latest              3.3s\n",
      "\u001b[?25h\u001b[1A\u001b[1A\u001b[1A\u001b[1A\u001b[0G\u001b[?25l[+] Building 4.4s (1/2)                                    docker:desktop-linux\n",
      "\u001b[34m => [internal] load build definition from Dockerfile                       0.3s\n",
      "\u001b[0m\u001b[34m => => transferring dockerfile: 191B                                       0.1s\n",
      "\u001b[0m => [internal] load metadata for docker.io/diamol/node:latest              3.4s\n",
      "\u001b[?25h\u001b[1A\u001b[1A\u001b[1A\u001b[1A\u001b[0G\u001b[?25l[+] Building 4.6s (1/2)                                    docker:desktop-linux\n",
      "\u001b[34m => [internal] load build definition from Dockerfile                       0.3s\n",
      "\u001b[0m\u001b[34m => => transferring dockerfile: 191B                                       0.1s\n",
      "\u001b[0m => [internal] load metadata for docker.io/diamol/node:latest              3.6s\n",
      "\u001b[?25h\u001b[1A\u001b[1A\u001b[1A\u001b[1A\u001b[0G\u001b[?25l[+] Building 4.7s (1/2)                                    docker:desktop-linux\n",
      "\u001b[34m => [internal] load build definition from Dockerfile                       0.3s\n",
      "\u001b[0m\u001b[34m => => transferring dockerfile: 191B                                       0.1s\n",
      "\u001b[0m => [internal] load metadata for docker.io/diamol/node:latest              3.7s\n",
      "\u001b[?25h\u001b[1A\u001b[1A\u001b[1A\u001b[1A\u001b[0G\u001b[?25l[+] Building 4.9s (1/2)                                    docker:desktop-linux\n",
      "\u001b[34m => [internal] load build definition from Dockerfile                       0.3s\n",
      "\u001b[0m\u001b[34m => => transferring dockerfile: 191B                                       0.1s\n",
      "\u001b[0m => [internal] load metadata for docker.io/diamol/node:latest              3.9s\n",
      "\u001b[?25h\u001b[1A\u001b[1A\u001b[1A\u001b[1A\u001b[0G\u001b[?25l[+] Building 4.9s (2/2)                                    docker:desktop-linux\n",
      "\u001b[34m => [internal] load build definition from Dockerfile                       0.3s\n",
      "\u001b[0m\u001b[34m => => transferring dockerfile: 191B                                       0.1s\n",
      "\u001b[0m\u001b[34m => [internal] load metadata for docker.io/diamol/node:latest              4.0s\n",
      "\u001b[0m\u001b[?25h\u001b[1A\u001b[1A\u001b[1A\u001b[1A\u001b[0G\u001b[?25l[+] Building 5.1s (3/7)                                    docker:desktop-linux\n",
      "\u001b[34m => [internal] load build definition from Dockerfile                       0.3s\n",
      "\u001b[0m\u001b[34m => => transferring dockerfile: 191B                                       0.1s\n",
      "\u001b[0m\u001b[34m => [internal] load metadata for docker.io/diamol/node:latest              4.0s\n",
      "\u001b[0m\u001b[34m => [internal] load .dockerignore                                          0.0s\n",
      "\u001b[0m\u001b[34m => => transferring context: 2B                                            0.0s\n",
      "\u001b[0m => [1/3] FROM docker.io/diamol/node:latest@sha256:dfee522acebdfdd9964aa9  0.1s\n",
      "\u001b[34m => => resolve docker.io/diamol/node:latest@sha256:dfee522acebdfdd9964aa9  0.0s\n",
      "\u001b[0m => [internal] load build context                                          0.1s\n",
      "\u001b[34m => => transferring context: 881B                                          0.0s\n",
      "\u001b[0m\u001b[?25h\u001b[1A\u001b[1A\u001b[1A\u001b[1A\u001b[1A\u001b[1A\u001b[1A\u001b[1A\u001b[1A\u001b[1A\u001b[0G\u001b[?25l[+] Building 5.2s (5/7)                                    docker:desktop-linux\n",
      "\u001b[34m => [internal] load build definition from Dockerfile                       0.3s\n",
      "\u001b[0m\u001b[34m => => transferring dockerfile: 191B                                       0.1s\n",
      "\u001b[0m\u001b[34m => [internal] load metadata for docker.io/diamol/node:latest              4.0s\n",
      "\u001b[0m\u001b[34m => [internal] load .dockerignore                                          0.0s\n",
      "\u001b[0m\u001b[34m => => transferring context: 2B                                            0.0s\n",
      "\u001b[0m\u001b[34m => [1/3] FROM docker.io/diamol/node:latest@sha256:dfee522acebdfdd9964aa9  0.2s\n",
      "\u001b[0m\u001b[34m => => resolve docker.io/diamol/node:latest@sha256:dfee522acebdfdd9964aa9  0.0s\n",
      "\u001b[0m\u001b[34m => => sha256:dfee522acebdfdd9964aa9c88ebebd03a20b6dd5739 1.41kB / 1.41kB  0.0s\n",
      "\u001b[0m\u001b[34m => => sha256:f59303fb3248e5d992586c76cc83e1d3700f641cbcd 1.16kB / 1.16kB  0.0s\n",
      "\u001b[0m\u001b[34m => => sha256:9dfa73010b19a67a86f360868c0f50fff7b5e6d4fd7 5.66kB / 5.66kB  0.0s\n",
      "\u001b[0m\u001b[34m => [internal] load build context                                          0.1s\n",
      "\u001b[0m\u001b[34m => => transferring context: 881B                                          0.0s\n",
      "\u001b[0m\u001b[?25h\u001b[1A\u001b[1A\u001b[1A\u001b[1A\u001b[1A\u001b[1A\u001b[1A\u001b[1A\u001b[1A\u001b[1A\u001b[1A\u001b[1A\u001b[1A\u001b[0G\u001b[?25l[+] Building 5.3s (7/7)                                    docker:desktop-linux\n",
      "\u001b[34m => [internal] load build definition from Dockerfile                       0.3s\n",
      "\u001b[0m\u001b[34m => => transferring dockerfile: 191B                                       0.1s\n",
      "\u001b[0m\u001b[34m => [internal] load metadata for docker.io/diamol/node:latest              4.0s\n",
      "\u001b[0m\u001b[34m => [internal] load .dockerignore                                          0.0s\n",
      "\u001b[0m\u001b[34m => => transferring context: 2B                                            0.0s\n",
      "\u001b[0m\u001b[34m => [1/3] FROM docker.io/diamol/node:latest@sha256:dfee522acebdfdd9964aa9  0.2s\n",
      "\u001b[0m\u001b[34m => => resolve docker.io/diamol/node:latest@sha256:dfee522acebdfdd9964aa9  0.0s\n",
      "\u001b[0m\u001b[34m => => sha256:dfee522acebdfdd9964aa9c88ebebd03a20b6dd5739 1.41kB / 1.41kB  0.0s\n",
      "\u001b[0m\u001b[34m => => sha256:f59303fb3248e5d992586c76cc83e1d3700f641cbcd 1.16kB / 1.16kB  0.0s\n",
      "\u001b[0m\u001b[34m => => sha256:9dfa73010b19a67a86f360868c0f50fff7b5e6d4fd7 5.66kB / 5.66kB  0.0s\n",
      "\u001b[0m\u001b[34m => [internal] load build context                                          0.1s\n",
      "\u001b[0m\u001b[34m => => transferring context: 881B                                          0.0s\n",
      "\u001b[0m\u001b[34m => [2/3] WORKDIR /web-ping                                                0.1s\n",
      "\u001b[0m\u001b[34m => [3/3] COPY app.js .                                                    0.0s\n",
      "\u001b[0m\u001b[?25h\u001b[1A\u001b[1A\u001b[1A\u001b[1A\u001b[1A\u001b[1A\u001b[1A\u001b[1A\u001b[1A\u001b[1A\u001b[1A\u001b[1A\u001b[1A\u001b[1A\u001b[1A\u001b[0G\u001b[?25l[+] Building 5.4s (7/8)                                    docker:desktop-linux\n",
      "\u001b[34m => [internal] load build definition from Dockerfile                       0.3s\n",
      "\u001b[0m\u001b[34m => => transferring dockerfile: 191B                                       0.1s\n",
      "\u001b[0m\u001b[34m => [internal] load metadata for docker.io/diamol/node:latest              4.0s\n",
      "\u001b[0m\u001b[34m => [internal] load .dockerignore                                          0.0s\n",
      "\u001b[0m\u001b[34m => => transferring context: 2B                                            0.0s\n",
      "\u001b[0m\u001b[34m => [1/3] FROM docker.io/diamol/node:latest@sha256:dfee522acebdfdd9964aa9  0.2s\n",
      "\u001b[0m\u001b[34m => => resolve docker.io/diamol/node:latest@sha256:dfee522acebdfdd9964aa9  0.0s\n",
      "\u001b[0m\u001b[34m => => sha256:dfee522acebdfdd9964aa9c88ebebd03a20b6dd5739 1.41kB / 1.41kB  0.0s\n",
      "\u001b[0m\u001b[34m => => sha256:f59303fb3248e5d992586c76cc83e1d3700f641cbcd 1.16kB / 1.16kB  0.0s\n",
      "\u001b[0m\u001b[34m => => sha256:9dfa73010b19a67a86f360868c0f50fff7b5e6d4fd7 5.66kB / 5.66kB  0.0s\n",
      "\u001b[0m\u001b[34m => [internal] load build context                                          0.1s\n",
      "\u001b[0m\u001b[34m => => transferring context: 881B                                          0.0s\n",
      "\u001b[0m\u001b[34m => [2/3] WORKDIR /web-ping                                                0.1s\n",
      "\u001b[0m\u001b[34m => [3/3] COPY app.js .                                                    0.0s\n",
      "\u001b[0m => exporting to image                                                     0.1s\n",
      "\u001b[34m => => exporting layers                                                    0.1s\n",
      "\u001b[0m => => writing image sha256:f61a5e8e94f59a1697cf99b3f56e5e5f1ae171d615385  0.0s\n",
      "\u001b[?25h\u001b[1A\u001b[1A\u001b[1A\u001b[1A\u001b[1A\u001b[1A\u001b[1A\u001b[1A\u001b[1A\u001b[1A\u001b[1A\u001b[1A\u001b[1A\u001b[1A\u001b[1A\u001b[1A\u001b[1A\u001b[1A\u001b[0G\u001b[?25l[+] Building 5.6s (8/8) FINISHED                           docker:desktop-linux\n",
      "\u001b[34m => [internal] load build definition from Dockerfile                       0.3s\n",
      "\u001b[0m\u001b[34m => => transferring dockerfile: 191B                                       0.1s\n",
      "\u001b[0m\u001b[34m => [internal] load metadata for docker.io/diamol/node:latest              4.0s\n",
      "\u001b[0m\u001b[34m => [internal] load .dockerignore                                          0.0s\n",
      "\u001b[0m\u001b[34m => => transferring context: 2B                                            0.0s\n",
      "\u001b[0m\u001b[34m => [1/3] FROM docker.io/diamol/node:latest@sha256:dfee522acebdfdd9964aa9  0.2s\n",
      "\u001b[0m\u001b[34m => => resolve docker.io/diamol/node:latest@sha256:dfee522acebdfdd9964aa9  0.0s\n",
      "\u001b[0m\u001b[34m => => sha256:dfee522acebdfdd9964aa9c88ebebd03a20b6dd5739 1.41kB / 1.41kB  0.0s\n",
      "\u001b[0m\u001b[34m => => sha256:f59303fb3248e5d992586c76cc83e1d3700f641cbcd 1.16kB / 1.16kB  0.0s\n",
      "\u001b[0m\u001b[34m => => sha256:9dfa73010b19a67a86f360868c0f50fff7b5e6d4fd7 5.66kB / 5.66kB  0.0s\n",
      "\u001b[0m\u001b[34m => [internal] load build context                                          0.1s\n",
      "\u001b[0m\u001b[34m => => transferring context: 881B                                          0.0s\n",
      "\u001b[0m\u001b[34m => [2/3] WORKDIR /web-ping                                                0.1s\n",
      "\u001b[0m\u001b[34m => [3/3] COPY app.js .                                                    0.0s\n",
      "\u001b[0m\u001b[34m => exporting to image                                                     0.2s\n",
      "\u001b[0m\u001b[34m => => exporting layers                                                    0.1s\n",
      "\u001b[0m\u001b[34m => => writing image sha256:f61a5e8e94f59a1697cf99b3f56e5e5f1ae171d615385  0.0s\n",
      "\u001b[0m\u001b[34m => => naming to docker.io/library/web-ping                                0.0s\n",
      "\u001b[0m\u001b[?25h\n",
      "View build details: \u001b]8;;docker-desktop://dashboard/build/desktop-linux/desktop-linux/trbrwokojdt6jdsjc0u746k3u\u001b\\docker-desktop://dashboard/build/desktop-linux/desktop-linux/trbrwokojdt6jdsjc0u746k3u\u001b]8;;\u001b\\\n"
     ]
    }
   ],
   "source": [
    "!docker image build --tag web-ping ."
   ]
  },
  {
   "cell_type": "markdown",
   "id": "4a2a34b8",
   "metadata": {},
   "source": [
    "### List images with names starting with 'w'"
   ]
  },
  {
   "cell_type": "code",
   "execution_count": null,
   "id": "4b4ad064",
   "metadata": {
    "vscode": {
     "languageId": "shellscript"
    }
   },
   "outputs": [
    {
     "name": "stdout",
     "output_type": "stream",
     "text": [
      "REPOSITORY   TAG       IMAGE ID       CREATED         SIZE\n",
      "web-ping     latest    f61a5e8e94f5   4 minutes ago   75.3MB\n"
     ]
    }
   ],
   "source": [
    "!docker image ls 'w*'"
   ]
  },
  {
   "cell_type": "code",
   "execution_count": null,
   "id": "34419055",
   "metadata": {
    "vscode": {
     "languageId": "shellscript"
    }
   },
   "outputs": [
    {
     "name": "stdout",
     "output_type": "stream",
     "text": [
      "** web-ping ** Pinging: docker.com; method: HEAD; 5000ms intervals\n",
      "Making request number: 1; at 1745302875467\n",
      "Got response status: 301 at 1745302876013; duration: 546ms\n",
      "^C\n"
     ]
    }
   ],
   "source": [
    "!docker container run -e TARGET=docker.com -e INTERVAL=5000 web-ping"
   ]
  },
  {
   "cell_type": "code",
   "execution_count": null,
   "id": "a35afbaa",
   "metadata": {
    "vscode": {
     "languageId": "shellscript"
    }
   },
   "outputs": [
    {
     "name": "stdout",
     "output_type": "stream",
     "text": [
      "IMAGE          CREATED          CREATED BY                                      SIZE      COMMENT\n",
      "f61a5e8e94f5   27 minutes ago   CMD [\"node\" \"/web-ping/app.js\"]                 0B        buildkit.dockerfile.v0\n",
      "<missing>      27 minutes ago   COPY app.js . # buildkit                        846B      buildkit.dockerfile.v0\n",
      "<missing>      27 minutes ago   WORKDIR /web-ping                               0B        buildkit.dockerfile.v0\n",
      "<missing>      27 minutes ago   ENV INTERVAL=3000                               0B        buildkit.dockerfile.v0\n",
      "<missing>      27 minutes ago   ENV METHOD=HEAD                                 0B        buildkit.dockerfile.v0\n",
      "<missing>      27 minutes ago   ENV TARGET=blog.sixeyed.com                     0B        buildkit.dockerfile.v0\n",
      "<missing>      5 years ago      /bin/sh -c #(nop)  CMD [\"node\"]                 0B        \n",
      "<missing>      5 years ago      /bin/sh -c #(nop)  ENTRYPOINT [\"docker-entry…   0B        \n",
      "<missing>      5 years ago      /bin/sh -c #(nop) COPY file:238737301d473041…   116B      \n",
      "<missing>      5 years ago      /bin/sh -c apk add --no-cache --virtual .bui…   5.1MB     \n",
      "<missing>      5 years ago      /bin/sh -c #(nop)  ENV YARN_VERSION=1.16.0      0B        \n",
      "<missing>      5 years ago      /bin/sh -c addgroup -g 1000 node     && addu…   64.7MB    \n",
      "<missing>      5 years ago      /bin/sh -c #(nop)  ENV NODE_VERSION=10.16.0     0B        \n",
      "<missing>      5 years ago      /bin/sh -c #(nop)  CMD [\"/bin/sh\"]              0B        \n",
      "<missing>      5 years ago      /bin/sh -c #(nop) ADD file:a86aea1f3a7d68f6a…   5.53MB    \n"
     ]
    }
   ],
   "source": [
    "!docker image history web-ping"
   ]
  },
  {
   "cell_type": "code",
   "execution_count": null,
   "id": "f97e0807",
   "metadata": {
    "vscode": {
     "languageId": "shellscript"
    }
   },
   "outputs": [
    {
     "name": "stdout",
     "output_type": "stream",
     "text": [
      "REPOSITORY             TAG       IMAGE ID       CREATED          SIZE\n",
      "web-ping               latest    f61a5e8e94f5   41 minutes ago   75.3MB\n",
      "diamol/ch03-web-ping   latest    c748a03c9314   4 years ago      75.3MB\n"
     ]
    }
   ],
   "source": [
    "!docker image ls"
   ]
  },
  {
   "cell_type": "markdown",
   "id": "02e1692e",
   "metadata": {},
   "source": [
    "### Display disk usage by Docker"
   ]
  },
  {
   "cell_type": "code",
   "execution_count": null,
   "id": "59d575d7",
   "metadata": {
    "vscode": {
     "languageId": "shellscript"
    }
   },
   "outputs": [
    {
     "name": "stdout",
     "output_type": "stream",
     "text": [
      "TYPE            TOTAL     ACTIVE    SIZE      RECLAIMABLE\n",
      "Images          2         2         75.3MB    75.3MB (99%)\n",
      "Containers      3         0         0B        0B\n",
      "Local Volumes   0         0         0B        0B\n",
      "Build Cache     9         0         998B      998B\n"
     ]
    }
   ],
   "source": [
    "!docker system df"
   ]
  },
  {
   "cell_type": "markdown",
   "id": "ad089613",
   "metadata": {},
   "source": [
    "## Optimizing Dockerfiles to use the image layer cache"
   ]
  },
  {
   "cell_type": "code",
   "execution_count": null,
   "id": "6f9df5ce",
   "metadata": {
    "vscode": {
     "languageId": "shellscript"
    }
   },
   "outputs": [
    {
     "name": "stdout",
     "output_type": "stream",
     "text": [
      "\u001b[1A\u001b[1B\u001b[0G\u001b[?25l[+] Building 0.0s (0/1)                                    docker:desktop-linux\n",
      "\u001b[?25h\u001b[1A\u001b[0G\u001b[?25l[+] Building 0.2s (1/2)                                    docker:desktop-linux\n",
      "\u001b[34m => [internal] load build definition from Dockerfile                       0.0s\n",
      "\u001b[0m\u001b[34m => => transferring dockerfile: 191B                                       0.0s\n",
      "\u001b[0m => [internal] load metadata for docker.io/diamol/node:latest              0.2s\n",
      "\u001b[?25h\u001b[1A\u001b[1A\u001b[1A\u001b[1A\u001b[0G\u001b[?25l[+] Building 0.3s (1/2)                                    docker:desktop-linux\n",
      "\u001b[34m => [internal] load build definition from Dockerfile                       0.0s\n",
      "\u001b[0m\u001b[34m => => transferring dockerfile: 191B                                       0.0s\n",
      "\u001b[0m => [internal] load metadata for docker.io/diamol/node:latest              0.3s\n",
      "\u001b[?25h\u001b[1A\u001b[1A\u001b[1A\u001b[1A\u001b[0G\u001b[?25l[+] Building 0.5s (1/2)                                    docker:desktop-linux\n",
      "\u001b[34m => [internal] load build definition from Dockerfile                       0.0s\n",
      "\u001b[0m\u001b[34m => => transferring dockerfile: 191B                                       0.0s\n",
      "\u001b[0m => [internal] load metadata for docker.io/diamol/node:latest              0.5s\n",
      "\u001b[?25h\u001b[1A\u001b[1A\u001b[1A\u001b[1A\u001b[0G\u001b[?25l[+] Building 0.6s (1/2)                                    docker:desktop-linux\n",
      "\u001b[34m => [internal] load build definition from Dockerfile                       0.0s\n",
      "\u001b[0m\u001b[34m => => transferring dockerfile: 191B                                       0.0s\n",
      "\u001b[0m => [internal] load metadata for docker.io/diamol/node:latest              0.6s\n",
      "\u001b[?25h\u001b[1A\u001b[1A\u001b[1A\u001b[1A\u001b[0G\u001b[?25l[+] Building 0.8s (1/2)                                    docker:desktop-linux\n",
      "\u001b[34m => [internal] load build definition from Dockerfile                       0.0s\n",
      "\u001b[0m\u001b[34m => => transferring dockerfile: 191B                                       0.0s\n",
      "\u001b[0m => [internal] load metadata for docker.io/diamol/node:latest              0.8s\n",
      "\u001b[?25h\u001b[1A\u001b[1A\u001b[1A\u001b[1A\u001b[0G\u001b[?25l[+] Building 0.9s (1/2)                                    docker:desktop-linux\n",
      "\u001b[34m => [internal] load build definition from Dockerfile                       0.0s\n",
      "\u001b[0m\u001b[34m => => transferring dockerfile: 191B                                       0.0s\n",
      "\u001b[0m => [internal] load metadata for docker.io/diamol/node:latest              0.9s\n",
      "\u001b[?25h\u001b[1A\u001b[1A\u001b[1A\u001b[1A\u001b[0G\u001b[?25l[+] Building 1.1s (1/2)                                    docker:desktop-linux\n",
      "\u001b[34m => [internal] load build definition from Dockerfile                       0.0s\n",
      "\u001b[0m\u001b[34m => => transferring dockerfile: 191B                                       0.0s\n",
      "\u001b[0m => [internal] load metadata for docker.io/diamol/node:latest              1.1s\n",
      "\u001b[?25h\u001b[1A\u001b[1A\u001b[1A\u001b[1A\u001b[0G\u001b[?25l[+] Building 1.2s (1/2)                                    docker:desktop-linux\n",
      "\u001b[34m => [internal] load build definition from Dockerfile                       0.0s\n",
      "\u001b[0m\u001b[34m => => transferring dockerfile: 191B                                       0.0s\n",
      "\u001b[0m => [internal] load metadata for docker.io/diamol/node:latest              1.2s\n",
      "\u001b[?25h\u001b[1A\u001b[1A\u001b[1A\u001b[1A\u001b[0G\u001b[?25l[+] Building 1.4s (1/2)                                    docker:desktop-linux\n",
      "\u001b[34m => [internal] load build definition from Dockerfile                       0.0s\n",
      "\u001b[0m\u001b[34m => => transferring dockerfile: 191B                                       0.0s\n",
      "\u001b[0m => [internal] load metadata for docker.io/diamol/node:latest              1.4s\n",
      "\u001b[?25h\u001b[1A\u001b[1A\u001b[1A\u001b[1A\u001b[0G\u001b[?25l[+] Building 1.5s (1/2)                                    docker:desktop-linux\n",
      "\u001b[34m => [internal] load build definition from Dockerfile                       0.0s\n",
      "\u001b[0m\u001b[34m => => transferring dockerfile: 191B                                       0.0s\n",
      "\u001b[0m => [internal] load metadata for docker.io/diamol/node:latest              1.5s\n",
      "\u001b[?25h\u001b[1A\u001b[1A\u001b[1A\u001b[1A\u001b[0G\u001b[?25l[+] Building 1.7s (1/2)                                    docker:desktop-linux\n",
      "\u001b[34m => [internal] load build definition from Dockerfile                       0.0s\n",
      "\u001b[0m\u001b[34m => => transferring dockerfile: 191B                                       0.0s\n",
      "\u001b[0m => [internal] load metadata for docker.io/diamol/node:latest              1.7s\n",
      "\u001b[?25h\u001b[1A\u001b[1A\u001b[1A\u001b[1A\u001b[0G\u001b[?25l[+] Building 1.8s (2/2)                                    docker:desktop-linux\n",
      "\u001b[34m => [internal] load build definition from Dockerfile                       0.0s\n",
      "\u001b[0m\u001b[34m => => transferring dockerfile: 191B                                       0.0s\n",
      "\u001b[0m\u001b[34m => [internal] load metadata for docker.io/diamol/node:latest              1.7s\n",
      "\u001b[0m\u001b[?25h\u001b[1A\u001b[1A\u001b[1A\u001b[1A\u001b[0G\u001b[?25l[+] Building 1.9s (7/8)                                    docker:desktop-linux\n",
      "\u001b[34m => [internal] load build definition from Dockerfile                       0.0s\n",
      "\u001b[0m\u001b[34m => => transferring dockerfile: 191B                                       0.0s\n",
      "\u001b[0m\u001b[34m => [internal] load metadata for docker.io/diamol/node:latest              1.7s\n",
      "\u001b[0m\u001b[34m => [internal] load .dockerignore                                          0.0s\n",
      "\u001b[0m\u001b[34m => => transferring context: 2B                                            0.0s\n",
      "\u001b[0m\u001b[34m => [1/3] FROM docker.io/diamol/node:latest@sha256:dfee522acebdfdd9964aa9  0.0s\n",
      "\u001b[0m\u001b[34m => [internal] load build context                                          0.0s\n",
      "\u001b[0m\u001b[34m => => transferring context: 885B                                          0.0s\n",
      "\u001b[0m\u001b[34m => CACHED [2/3] WORKDIR /web-ping                                         0.0s\n",
      "\u001b[0m\u001b[34m => [3/3] COPY app.js .                                                    0.1s\n",
      "\u001b[0m => exporting to image                                                     0.0s\n",
      "\u001b[34m => => exporting layers                                                    0.0s\n",
      "\u001b[0m => => writing image sha256:e5608eb94945fcdd4d98dba7a084220edaebcc4106e3a  0.0s\n",
      "\u001b[?25h\u001b[1A\u001b[1A\u001b[1A\u001b[1A\u001b[1A\u001b[1A\u001b[1A\u001b[1A\u001b[1A\u001b[1A\u001b[1A\u001b[1A\u001b[1A\u001b[1A\u001b[0G\u001b[?25l[+] Building 1.9s (8/8) FINISHED                           docker:desktop-linux\n",
      "\u001b[34m => [internal] load build definition from Dockerfile                       0.0s\n",
      "\u001b[0m\u001b[34m => => transferring dockerfile: 191B                                       0.0s\n",
      "\u001b[0m\u001b[34m => [internal] load metadata for docker.io/diamol/node:latest              1.7s\n",
      "\u001b[0m\u001b[34m => [internal] load .dockerignore                                          0.0s\n",
      "\u001b[0m\u001b[34m => => transferring context: 2B                                            0.0s\n",
      "\u001b[0m\u001b[34m => [1/3] FROM docker.io/diamol/node:latest@sha256:dfee522acebdfdd9964aa9  0.0s\n",
      "\u001b[0m\u001b[34m => [internal] load build context                                          0.0s\n",
      "\u001b[0m\u001b[34m => => transferring context: 885B                                          0.0s\n",
      "\u001b[0m\u001b[34m => CACHED [2/3] WORKDIR /web-ping                                         0.0s\n",
      "\u001b[0m\u001b[34m => [3/3] COPY app.js .                                                    0.1s\n",
      "\u001b[0m\u001b[34m => exporting to image                                                     0.0s\n",
      "\u001b[0m\u001b[34m => => exporting layers                                                    0.0s\n",
      "\u001b[0m\u001b[34m => => writing image sha256:e5608eb94945fcdd4d98dba7a084220edaebcc4106e3a  0.0s\n",
      "\u001b[0m\u001b[34m => => naming to docker.io/library/web-ping:v2                             0.0s\n",
      "\u001b[0m\u001b[?25h\n",
      "View build details: \u001b]8;;docker-desktop://dashboard/build/desktop-linux/desktop-linux/9mf6d2n1sktt8mmnb5u0m693g\u001b\\docker-desktop://dashboard/build/desktop-linux/desktop-linux/9mf6d2n1sktt8mmnb5u0m693g\u001b]8;;\u001b\\\n"
     ]
    }
   ],
   "source": [
    "!docker image build -t web-ping:v2 ."
   ]
  },
  {
   "cell_type": "code",
   "execution_count": null,
   "id": "f36fb031",
   "metadata": {
    "vscode": {
     "languageId": "shellscript"
    }
   },
   "outputs": [
    {
     "name": "stdout",
     "output_type": "stream",
     "text": [
      "/home/amin/docker-in-a-month-practice/diamol/ch03/exercises/web-ping-optimized\n"
     ]
    }
   ],
   "source": [
    "cd ../web-ping-optimized"
   ]
  },
  {
   "cell_type": "code",
   "execution_count": null,
   "id": "60932945",
   "metadata": {
    "vscode": {
     "languageId": "shellscript"
    }
   },
   "outputs": [
    {
     "name": "stdout",
     "output_type": "stream",
     "text": [
      "\u001b[1A\u001b[1B\u001b[0G\u001b[?25l[+] Building 0.0s (0/1)                                    docker:desktop-linux\n",
      "\u001b[?25h\u001b[1A\u001b[0G\u001b[?25l[+] Building 0.2s (1/2)                                    docker:desktop-linux\n",
      "\u001b[34m => [internal] load build definition from Dockerfile                       0.0s\n",
      "\u001b[0m\u001b[34m => => transferring dockerfile: 195B                                       0.0s\n",
      "\u001b[0m => [internal] load metadata for docker.io/diamol/node:latest              0.2s\n",
      "\u001b[?25h\u001b[1A\u001b[1A\u001b[1A\u001b[1A\u001b[0G\u001b[?25l[+] Building 0.3s (1/2)                                    docker:desktop-linux\n",
      "\u001b[34m => [internal] load build definition from Dockerfile                       0.0s\n",
      "\u001b[0m\u001b[34m => => transferring dockerfile: 195B                                       0.0s\n",
      "\u001b[0m => [internal] load metadata for docker.io/diamol/node:latest              0.3s\n",
      "\u001b[?25h\u001b[1A\u001b[1A\u001b[1A\u001b[1A\u001b[0G\u001b[?25l[+] Building 0.5s (1/2)                                    docker:desktop-linux\n",
      "\u001b[34m => [internal] load build definition from Dockerfile                       0.0s\n",
      "\u001b[0m\u001b[34m => => transferring dockerfile: 195B                                       0.0s\n",
      "\u001b[0m => [internal] load metadata for docker.io/diamol/node:latest              0.5s\n",
      "\u001b[?25h\u001b[1A\u001b[1A\u001b[1A\u001b[1A\u001b[0G\u001b[?25l[+] Building 0.6s (1/2)                                    docker:desktop-linux\n",
      "\u001b[34m => [internal] load build definition from Dockerfile                       0.0s\n",
      "\u001b[0m\u001b[34m => => transferring dockerfile: 195B                                       0.0s\n",
      "\u001b[0m => [internal] load metadata for docker.io/diamol/node:latest              0.6s\n",
      "\u001b[?25h\u001b[1A\u001b[1A\u001b[1A\u001b[1A\u001b[0G\u001b[?25l[+] Building 0.8s (1/2)                                    docker:desktop-linux\n",
      "\u001b[34m => [internal] load build definition from Dockerfile                       0.0s\n",
      "\u001b[0m\u001b[34m => => transferring dockerfile: 195B                                       0.0s\n",
      "\u001b[0m => [internal] load metadata for docker.io/diamol/node:latest              0.8s\n",
      "\u001b[?25h\u001b[1A\u001b[1A\u001b[1A\u001b[1A\u001b[0G\u001b[?25l[+] Building 0.9s (1/2)                                    docker:desktop-linux\n",
      "\u001b[34m => [internal] load build definition from Dockerfile                       0.0s\n",
      "\u001b[0m\u001b[34m => => transferring dockerfile: 195B                                       0.0s\n",
      "\u001b[0m => [internal] load metadata for docker.io/diamol/node:latest              0.9s\n",
      "\u001b[?25h\u001b[1A\u001b[1A\u001b[1A\u001b[1A\u001b[0G\u001b[?25l[+] Building 1.0s (2/2)                                    docker:desktop-linux\n",
      "\u001b[34m => [internal] load build definition from Dockerfile                       0.0s\n",
      "\u001b[0m\u001b[34m => => transferring dockerfile: 195B                                       0.0s\n",
      "\u001b[0m\u001b[34m => [internal] load metadata for docker.io/diamol/node:latest              0.9s\n",
      "\u001b[0m\u001b[?25h\u001b[1A\u001b[1A\u001b[1A\u001b[1A\u001b[0G\u001b[?25l[+] Building 1.1s (7/7)                                    docker:desktop-linux\n",
      "\u001b[34m => [internal] load build definition from Dockerfile                       0.0s\n",
      "\u001b[0m\u001b[34m => => transferring dockerfile: 195B                                       0.0s\n",
      "\u001b[0m\u001b[34m => [internal] load metadata for docker.io/diamol/node:latest              0.9s\n",
      "\u001b[0m\u001b[34m => [internal] load .dockerignore                                          0.0s\n",
      "\u001b[0m\u001b[34m => => transferring context: 2B                                            0.0s\n",
      "\u001b[0m\u001b[34m => [1/3] FROM docker.io/diamol/node:latest@sha256:dfee522acebdfdd9964aa9  0.0s\n",
      "\u001b[0m\u001b[34m => [internal] load build context                                          0.0s\n",
      "\u001b[0m\u001b[34m => => transferring context: 799B                                          0.0s\n",
      "\u001b[0m\u001b[34m => CACHED [2/3] WORKDIR /web-ping                                         0.0s\n",
      "\u001b[0m\u001b[34m => [3/3] COPY app.js .                                                    0.0s\n",
      "\u001b[0m\u001b[?25h\u001b[1A\u001b[1A\u001b[1A\u001b[1A\u001b[1A\u001b[1A\u001b[1A\u001b[1A\u001b[1A\u001b[1A\u001b[1A\u001b[0G\u001b[?25l[+] Building 1.2s (8/8) FINISHED                           docker:desktop-linux\n",
      "\u001b[34m => [internal] load build definition from Dockerfile                       0.0s\n",
      "\u001b[0m\u001b[34m => => transferring dockerfile: 195B                                       0.0s\n",
      "\u001b[0m\u001b[34m => [internal] load metadata for docker.io/diamol/node:latest              0.9s\n",
      "\u001b[0m\u001b[34m => [internal] load .dockerignore                                          0.0s\n",
      "\u001b[0m\u001b[34m => => transferring context: 2B                                            0.0s\n",
      "\u001b[0m\u001b[34m => [1/3] FROM docker.io/diamol/node:latest@sha256:dfee522acebdfdd9964aa9  0.0s\n",
      "\u001b[0m\u001b[34m => [internal] load build context                                          0.0s\n",
      "\u001b[0m\u001b[34m => => transferring context: 799B                                          0.0s\n",
      "\u001b[0m\u001b[34m => CACHED [2/3] WORKDIR /web-ping                                         0.0s\n",
      "\u001b[0m\u001b[34m => [3/3] COPY app.js .                                                    0.0s\n",
      "\u001b[0m\u001b[34m => exporting to image                                                     0.1s\n",
      "\u001b[0m\u001b[34m => => exporting layers                                                    0.0s\n",
      "\u001b[0m\u001b[34m => => writing image sha256:98007571624f4d51e8fe4d5eb3999bc68b5890cd21afc  0.0s\n",
      "\u001b[0m\u001b[34m => => naming to docker.io/library/web-ping:v3                             0.0s\n",
      "\u001b[0m\u001b[?25h\n",
      "View build details: \u001b]8;;docker-desktop://dashboard/build/desktop-linux/desktop-linux/cbxm9b0v2z3isedms272w8djv\u001b\\docker-desktop://dashboard/build/desktop-linux/desktop-linux/cbxm9b0v2z3isedms272w8djv\u001b]8;;\u001b\\\n"
     ]
    }
   ],
   "source": [
    "!docker image build -t web-ping:v3 ."
   ]
  }
 ],
 "metadata": {
  "kernelspec": {
   "display_name": "Python 3",
   "language": "python",
   "name": "python3"
  },
  "language_info": {
   "codemirror_mode": {
    "name": "ipython",
    "version": 3
   },
   "file_extension": ".py",
   "mimetype": "text/x-python",
   "name": "python",
   "nbconvert_exporter": "python",
   "pygments_lexer": "ipython3",
   "version": "3.12.3"
  }
 },
 "nbformat": 4,
 "nbformat_minor": 5
}
