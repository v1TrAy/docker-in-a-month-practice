{
 "cells": [
  {
   "cell_type": "markdown",
   "id": "df2eca65",
   "metadata": {},
   "source": [
    "# Running Hello World\n"
   ]
  },
  {
   "cell_type": "code",
   "execution_count": null,
   "id": "c2790a6d",
   "metadata": {
    "vscode": {
     "languageId": "shellscript"
    }
   },
   "outputs": [
    {
     "name": "stdout",
     "output_type": "stream",
     "text": [
      "Unable to find image 'diamol/ch02-hello-diamol:latest' locally\n",
      "latest: Pulling from diamol/ch02-hello-diamol\n",
      "\n",
      "\u001b[1B3596830f: Pulling fs layer \n",
      "\u001b[1B1504196e: Pulling fs layer \n",
      "\u001b[1Bf3678981: Pull complete  227B/227B3MBB\u001b[3A\u001b[2K\u001b[1A\u001b[2K\u001b[3A\u001b[2K\u001b[3A\u001b[2K\u001b[3A\u001b[2K\u001b[2A\u001b[2K\u001b[3A\u001b[2K\u001b[3A\u001b[2K\u001b[3A\u001b[2K\u001b[3A\u001b[2K\u001b[3A\u001b[2K\u001b[3A\u001b[2K\u001b[3A\u001b[2K\u001b[3A\u001b[2K\u001b[3A\u001b[2K\u001b[3A\u001b[2K\u001b[3A\u001b[2K\u001b[3A\u001b[2K\u001b[2K\u001b[1A\u001b[2KDigest: sha256:c4f45e04025d10d14d7a96df2242753b925e5c175c3bea9112f93bf9c55d4474\n",
      "Status: Downloaded newer image for diamol/ch02-hello-diamol:latest\n",
      "---------------------\n",
      "Hello from Chapter 2!\n",
      "---------------------\n",
      "My name is:\n",
      "26026da1c851\n",
      "---------------------\n",
      "Im running on:\n",
      "Linux 6.10.14-linuxkit x86_64\n",
      "---------------------\n",
      "My address is:\n",
      "inet addr:172.17.0.2 Bcast:172.17.255.255 Mask:255.255.0.0\n",
      "---------------------\n"
     ]
    }
   ],
   "source": [
    "!docker container run diamol/ch02-hello-diamol\n"
   ]
  },
  {
   "cell_type": "markdown",
   "id": "8d4181b1",
   "metadata": {},
   "source": [
    "### Repeat"
   ]
  },
  {
   "cell_type": "code",
   "execution_count": 3,
   "id": "fb488288",
   "metadata": {
    "vscode": {
     "languageId": "shellscript"
    }
   },
   "outputs": [
    {
     "name": "stdout",
     "output_type": "stream",
     "text": [
      "---------------------\n",
      "Hello from Chapter 2!\n",
      "---------------------\n",
      "My name is:\n",
      "2e1b85b8ae00\n",
      "---------------------\n",
      "Im running on:\n",
      "Linux 6.10.14-linuxkit x86_64\n",
      "---------------------\n",
      "My address is:\n",
      "inet addr:172.17.0.2 Bcast:172.17.255.255 Mask:255.255.0.0\n",
      "---------------------\n"
     ]
    }
   ],
   "source": [
    "!docker container run diamol/ch02-hello-diamol"
   ]
  },
  {
   "cell_type": "markdown",
   "id": "23e0690f",
   "metadata": {},
   "source": [
    "###  Run container with interactive terminal"
   ]
  },
  {
   "cell_type": "code",
   "execution_count": null,
   "id": "7d73a631",
   "metadata": {
    "vscode": {
     "languageId": "shellscript"
    }
   },
   "outputs": [
    {
     "name": "stdout",
     "output_type": "stream",
     "text": [
      "/ # \u001b[6n"
     ]
    }
   ],
   "source": [
    "!docker container run --interactive --tty diamol/base"
   ]
  },
  {
   "cell_type": "markdown",
   "id": "0568e79c",
   "metadata": {},
   "source": [
    "### List running containers"
   ]
  },
  {
   "cell_type": "code",
   "execution_count": 1,
   "id": "7a83e041-1937-4c90-bd52-03c2a32d2009",
   "metadata": {
    "vscode": {
     "languageId": "shellscript"
    }
   },
   "outputs": [
    {
     "name": "stdout",
     "output_type": "stream",
     "text": [
      "CONTAINER ID   IMAGE         COMMAND     CREATED       STATUS       PORTS     NAMES\n",
      "b183806b1c7e   diamol/base   \"/bin/sh\"   2 hours ago   Up 2 hours             reverent_heyrovsky\n",
      "b36c9db1a179   diamol/base   \"/bin/sh\"   2 hours ago   Up 2 hours             sleepy_gagarin\n",
      "f3792e43000d   diamol/base   \"/bin/sh\"   2 hours ago   Up 2 hours             goofy_hodgkin\n",
      "4980a9df8cb4   diamol/base   \"/bin/sh\"   3 hours ago   Up 3 hours             naughty_faraday\n",
      "470d432c7d60   diamol/base   \"/bin/sh\"   3 hours ago   Up 3 hours             modest_aryabhata\n",
      "df53b2405390   diamol/base   \"/bin/sh\"   3 hours ago   Up 3 hours             nice_swanson\n"
     ]
    }
   ],
   "source": [
    "!docker container ls\n"
   ]
  },
  {
   "cell_type": "code",
   "execution_count": 2,
   "id": "b44e18f7",
   "metadata": {
    "vscode": {
     "languageId": "shellscript"
    }
   },
   "outputs": [
    {
     "name": "stdout",
     "output_type": "stream",
     "text": [
      "UID                 PID                 PPID                C                   STIME               TTY                 TIME                CMD\n",
      "root                922                 899                 0                   11:31               ?                   00:00:00            /bin/sh\n"
     ]
    }
   ],
   "source": [
    "!docker container top b1"
   ]
  },
  {
   "cell_type": "code",
   "execution_count": 4,
   "id": "8a2965e6",
   "metadata": {
    "vscode": {
     "languageId": "shellscript"
    }
   },
   "outputs": [
    {
     "name": "stdout",
     "output_type": "stream",
     "text": [
      "/ # \u001b[6nhostname\n",
      "b183806b1c7e\n",
      "/ # \u001b[6ndate\n",
      "Wed Apr 16 11:31:57 UTC 2025\n",
      "/ # \u001b[6n^C\n",
      "/ # \u001b[6nq\n",
      "/bin/sh: q: not found\n"
     ]
    }
   ],
   "source": [
    "!docker container logs b1"
   ]
  },
  {
   "cell_type": "code",
   "execution_count": null,
   "id": "4879a4d7",
   "metadata": {
    "vscode": {
     "languageId": "shellscript"
    }
   },
   "outputs": [],
   "source": []
  }
 ],
 "metadata": {
  "kernelspec": {
   "display_name": "Python 3",
   "language": "python",
   "name": "python3"
  },
  "language_info": {
   "codemirror_mode": {
    "name": "ipython",
    "version": 3
   },
   "file_extension": ".py",
   "mimetype": "text/x-python",
   "name": "python",
   "nbconvert_exporter": "python",
   "pygments_lexer": "ipython3",
   "version": "3.12.3"
  }
 },
 "nbformat": 4,
 "nbformat_minor": 5
}
