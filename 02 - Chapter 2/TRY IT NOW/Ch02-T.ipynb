{
 "cells": [
  {
   "cell_type": "markdown",
   "id": "bde8b35d",
   "metadata": {},
   "source": [
    "# Chapter 2 - (TRY IT NOW) Practice"
   ]
  },
  {
   "cell_type": "markdown",
   "id": "df2eca65",
   "metadata": {},
   "source": [
    "# Running Hello World\n"
   ]
  },
  {
   "cell_type": "code",
   "execution_count": null,
   "id": "c2790a6d",
   "metadata": {
    "vscode": {
     "languageId": "shellscript"
    }
   },
   "outputs": [
    {
     "name": "stdout",
     "output_type": "stream",
     "text": [
      "Unable to find image 'diamol/ch02-hello-diamol:latest' locally\n",
      "latest: Pulling from diamol/ch02-hello-diamol\n",
      "\n",
      "\u001b[1B3596830f: Pulling fs layer \n",
      "\u001b[1B1504196e: Pulling fs layer \n",
      "\u001b[1Bf3678981: Pull complete  227B/227B3MBB\u001b[3A\u001b[2K\u001b[1A\u001b[2K\u001b[3A\u001b[2K\u001b[3A\u001b[2K\u001b[3A\u001b[2K\u001b[2A\u001b[2K\u001b[3A\u001b[2K\u001b[3A\u001b[2K\u001b[3A\u001b[2K\u001b[3A\u001b[2K\u001b[3A\u001b[2K\u001b[3A\u001b[2K\u001b[3A\u001b[2K\u001b[3A\u001b[2K\u001b[3A\u001b[2K\u001b[3A\u001b[2K\u001b[3A\u001b[2K\u001b[3A\u001b[2K\u001b[2K\u001b[1A\u001b[2KDigest: sha256:c4f45e04025d10d14d7a96df2242753b925e5c175c3bea9112f93bf9c55d4474\n",
      "Status: Downloaded newer image for diamol/ch02-hello-diamol:latest\n",
      "---------------------\n",
      "Hello from Chapter 2!\n",
      "---------------------\n",
      "My name is:\n",
      "26026da1c851\n",
      "---------------------\n",
      "Im running on:\n",
      "Linux 6.10.14-linuxkit x86_64\n",
      "---------------------\n",
      "My address is:\n",
      "inet addr:172.17.0.2 Bcast:172.17.255.255 Mask:255.255.0.0\n",
      "---------------------\n"
     ]
    }
   ],
   "source": [
    "!docker container run diamol/ch02-hello-diamol\n"
   ]
  },
  {
   "cell_type": "markdown",
   "id": "8d4181b1",
   "metadata": {},
   "source": [
    "### Repeat"
   ]
  },
  {
   "cell_type": "code",
   "execution_count": 3,
   "id": "fb488288",
   "metadata": {
    "vscode": {
     "languageId": "shellscript"
    }
   },
   "outputs": [
    {
     "name": "stdout",
     "output_type": "stream",
     "text": [
      "---------------------\n",
      "Hello from Chapter 2!\n",
      "---------------------\n",
      "My name is:\n",
      "2e1b85b8ae00\n",
      "---------------------\n",
      "Im running on:\n",
      "Linux 6.10.14-linuxkit x86_64\n",
      "---------------------\n",
      "My address is:\n",
      "inet addr:172.17.0.2 Bcast:172.17.255.255 Mask:255.255.0.0\n",
      "---------------------\n"
     ]
    }
   ],
   "source": [
    "!docker container run diamol/ch02-hello-diamol"
   ]
  },
  {
   "cell_type": "markdown",
   "id": "23e0690f",
   "metadata": {},
   "source": [
    "###  Run container with interactive terminal"
   ]
  },
  {
   "cell_type": "code",
   "execution_count": null,
   "id": "7d73a631",
   "metadata": {
    "vscode": {
     "languageId": "shellscript"
    }
   },
   "outputs": [
    {
     "name": "stdout",
     "output_type": "stream",
     "text": [
      "/ # \u001b[6n"
     ]
    }
   ],
   "source": [
    "!docker container run --interactive --tty diamol/base"
   ]
  },
  {
   "cell_type": "markdown",
   "id": "0568e79c",
   "metadata": {},
   "source": [
    "### List running containers"
   ]
  },
  {
   "cell_type": "code",
   "execution_count": 1,
   "id": "7a83e041-1937-4c90-bd52-03c2a32d2009",
   "metadata": {
    "vscode": {
     "languageId": "shellscript"
    }
   },
   "outputs": [
    {
     "name": "stdout",
     "output_type": "stream",
     "text": [
      "CONTAINER ID   IMAGE         COMMAND     CREATED       STATUS       PORTS     NAMES\n",
      "b183806b1c7e   diamol/base   \"/bin/sh\"   2 hours ago   Up 2 hours             reverent_heyrovsky\n",
      "b36c9db1a179   diamol/base   \"/bin/sh\"   2 hours ago   Up 2 hours             sleepy_gagarin\n",
      "f3792e43000d   diamol/base   \"/bin/sh\"   2 hours ago   Up 2 hours             goofy_hodgkin\n",
      "4980a9df8cb4   diamol/base   \"/bin/sh\"   3 hours ago   Up 3 hours             naughty_faraday\n",
      "470d432c7d60   diamol/base   \"/bin/sh\"   3 hours ago   Up 3 hours             modest_aryabhata\n",
      "df53b2405390   diamol/base   \"/bin/sh\"   3 hours ago   Up 3 hours             nice_swanson\n"
     ]
    }
   ],
   "source": [
    "!docker container ls\n"
   ]
  },
  {
   "cell_type": "markdown",
   "id": "fc12c9e9",
   "metadata": {},
   "source": [
    "### Running processes in container"
   ]
  },
  {
   "cell_type": "code",
   "execution_count": 2,
   "id": "b44e18f7",
   "metadata": {
    "vscode": {
     "languageId": "shellscript"
    }
   },
   "outputs": [
    {
     "name": "stdout",
     "output_type": "stream",
     "text": [
      "UID                 PID                 PPID                C                   STIME               TTY                 TIME                CMD\n",
      "root                922                 899                 0                   11:31               ?                   00:00:00            /bin/sh\n"
     ]
    }
   ],
   "source": [
    "!docker container top b1"
   ]
  },
  {
   "cell_type": "code",
   "execution_count": 4,
   "id": "8a2965e6",
   "metadata": {
    "vscode": {
     "languageId": "shellscript"
    }
   },
   "outputs": [
    {
     "name": "stdout",
     "output_type": "stream",
     "text": [
      "/ # \u001b[6nhostname\n",
      "b183806b1c7e\n",
      "/ # \u001b[6ndate\n",
      "Wed Apr 16 11:31:57 UTC 2025\n",
      "/ # \u001b[6n^C\n",
      "/ # \u001b[6nq\n",
      "/bin/sh: q: not found\n"
     ]
    }
   ],
   "source": [
    "!docker container logs b1"
   ]
  },
  {
   "cell_type": "markdown",
   "id": "f406da2a",
   "metadata": {},
   "source": [
    "### View container details in JSON"
   ]
  },
  {
   "cell_type": "code",
   "execution_count": 2,
   "id": "4879a4d7",
   "metadata": {
    "vscode": {
     "languageId": "shellscript"
    }
   },
   "outputs": [
    {
     "name": "stdout",
     "output_type": "stream",
     "text": [
      "[\n",
      "    {\n",
      "        \"Id\": \"b183806b1c7e30e20dc2aef0382e411dc3d4841d0b0ee4103a40e8a81da5638a\",\n",
      "        \"Created\": \"2025-04-16T11:31:47.614265459Z\",\n",
      "        \"Path\": \"/bin/sh\",\n",
      "        \"Args\": [],\n",
      "        \"State\": {\n",
      "            \"Status\": \"exited\",\n",
      "            \"Running\": false,\n",
      "            \"Paused\": false,\n",
      "            \"Restarting\": false,\n",
      "            \"OOMKilled\": false,\n",
      "            \"Dead\": false,\n",
      "            \"Pid\": 0,\n",
      "            \"ExitCode\": 255,\n",
      "            \"Error\": \"\",\n",
      "            \"StartedAt\": \"2025-04-16T11:31:47.667734658Z\",\n",
      "            \"FinishedAt\": \"2025-04-18T17:54:27.432371014Z\"\n",
      "        },\n",
      "        \"Image\": \"sha256:9fc3f74c8b533bed2ac40ccfc6a5235ebb626a26a230dc3731fcdf926d984106\",\n",
      "        \"ResolvConfPath\": \"/var/lib/docker/containers/b183806b1c7e30e20dc2aef0382e411dc3d4841d0b0ee4103a40e8a81da5638a/resolv.conf\",\n",
      "        \"HostnamePath\": \"/var/lib/docker/containers/b183806b1c7e30e20dc2aef0382e411dc3d4841d0b0ee4103a40e8a81da5638a/hostname\",\n",
      "        \"HostsPath\": \"/var/lib/docker/containers/b183806b1c7e30e20dc2aef0382e411dc3d4841d0b0ee4103a40e8a81da5638a/hosts\",\n",
      "        \"LogPath\": \"/var/lib/docker/containers/b183806b1c7e30e20dc2aef0382e411dc3d4841d0b0ee4103a40e8a81da5638a/b183806b1c7e30e20dc2aef0382e411dc3d4841d0b0ee4103a40e8a81da5638a-json.log\",\n",
      "        \"Name\": \"/reverent_heyrovsky\",\n",
      "        \"RestartCount\": 0,\n",
      "        \"Driver\": \"overlay2\",\n",
      "        \"Platform\": \"linux\",\n",
      "        \"MountLabel\": \"\",\n",
      "        \"ProcessLabel\": \"\",\n",
      "        \"AppArmorProfile\": \"\",\n",
      "        \"ExecIDs\": null,\n",
      "        \"HostConfig\": {\n",
      "            \"Binds\": null,\n",
      "            \"ContainerIDFile\": \"\",\n",
      "            \"LogConfig\": {\n",
      "                \"Type\": \"json-file\",\n",
      "                \"Config\": {}\n",
      "            },\n",
      "            \"NetworkMode\": \"bridge\",\n",
      "            \"PortBindings\": {},\n",
      "            \"RestartPolicy\": {\n",
      "                \"Name\": \"no\",\n",
      "                \"MaximumRetryCount\": 0\n",
      "            },\n",
      "            \"AutoRemove\": false,\n",
      "            \"VolumeDriver\": \"\",\n",
      "            \"VolumesFrom\": null,\n",
      "            \"ConsoleSize\": [\n",
      "                24,\n",
      "                80\n",
      "            ],\n",
      "            \"CapAdd\": null,\n",
      "            \"CapDrop\": null,\n",
      "            \"CgroupnsMode\": \"private\",\n",
      "            \"Dns\": [],\n",
      "            \"DnsOptions\": [],\n",
      "            \"DnsSearch\": [],\n",
      "            \"ExtraHosts\": null,\n",
      "            \"GroupAdd\": null,\n",
      "            \"IpcMode\": \"private\",\n",
      "            \"Cgroup\": \"\",\n",
      "            \"Links\": null,\n",
      "            \"OomScoreAdj\": 0,\n",
      "            \"PidMode\": \"\",\n",
      "            \"Privileged\": false,\n",
      "            \"PublishAllPorts\": false,\n",
      "            \"ReadonlyRootfs\": false,\n",
      "            \"SecurityOpt\": null,\n",
      "            \"UTSMode\": \"\",\n",
      "            \"UsernsMode\": \"\",\n",
      "            \"ShmSize\": 67108864,\n",
      "            \"Runtime\": \"runc\",\n",
      "            \"Isolation\": \"\",\n",
      "            \"CpuShares\": 0,\n",
      "            \"Memory\": 0,\n",
      "            \"NanoCpus\": 0,\n",
      "            \"CgroupParent\": \"\",\n",
      "            \"BlkioWeight\": 0,\n",
      "            \"BlkioWeightDevice\": [],\n",
      "            \"BlkioDeviceReadBps\": [],\n",
      "            \"BlkioDeviceWriteBps\": [],\n",
      "            \"BlkioDeviceReadIOps\": [],\n",
      "            \"BlkioDeviceWriteIOps\": [],\n",
      "            \"CpuPeriod\": 0,\n",
      "            \"CpuQuota\": 0,\n",
      "            \"CpuRealtimePeriod\": 0,\n",
      "            \"CpuRealtimeRuntime\": 0,\n",
      "            \"CpusetCpus\": \"\",\n",
      "            \"CpusetMems\": \"\",\n",
      "            \"Devices\": [],\n",
      "            \"DeviceCgroupRules\": null,\n",
      "            \"DeviceRequests\": null,\n",
      "            \"MemoryReservation\": 0,\n",
      "            \"MemorySwap\": 0,\n",
      "            \"MemorySwappiness\": null,\n",
      "            \"OomKillDisable\": null,\n",
      "            \"PidsLimit\": null,\n",
      "            \"Ulimits\": [],\n",
      "            \"CpuCount\": 0,\n",
      "            \"CpuPercent\": 0,\n",
      "            \"IOMaximumIOps\": 0,\n",
      "            \"IOMaximumBandwidth\": 0,\n",
      "            \"MaskedPaths\": [\n",
      "                \"/proc/asound\",\n",
      "                \"/proc/acpi\",\n",
      "                \"/proc/interrupts\",\n",
      "                \"/proc/kcore\",\n",
      "                \"/proc/keys\",\n",
      "                \"/proc/latency_stats\",\n",
      "                \"/proc/timer_list\",\n",
      "                \"/proc/timer_stats\",\n",
      "                \"/proc/sched_debug\",\n",
      "                \"/proc/scsi\",\n",
      "                \"/sys/firmware\",\n",
      "                \"/sys/devices/virtual/powercap\"\n",
      "            ],\n",
      "            \"ReadonlyPaths\": [\n",
      "                \"/proc/bus\",\n",
      "                \"/proc/fs\",\n",
      "                \"/proc/irq\",\n",
      "                \"/proc/sys\",\n",
      "                \"/proc/sysrq-trigger\"\n",
      "            ]\n",
      "        },\n",
      "        \"GraphDriver\": {\n",
      "            \"Data\": {\n",
      "                \"ID\": \"b183806b1c7e30e20dc2aef0382e411dc3d4841d0b0ee4103a40e8a81da5638a\",\n",
      "                \"LowerDir\": \"/var/lib/docker/overlay2/8df5db860ca5d93cfe37a7fce4b1f083bb0c3d01a2963dae47ca4937e4b93acf-init/diff:/var/lib/docker/overlay2/5a2bae0af497a303f4a32d1134f294607358dacc64a83946298c4d8259cef90b/diff:/var/lib/docker/overlay2/04eb0df7c3e36ca134009e1267115517ed63de8b6b874f8edbd28b186fc99ac8/diff\",\n",
      "                \"MergedDir\": \"/var/lib/docker/overlay2/8df5db860ca5d93cfe37a7fce4b1f083bb0c3d01a2963dae47ca4937e4b93acf/merged\",\n",
      "                \"UpperDir\": \"/var/lib/docker/overlay2/8df5db860ca5d93cfe37a7fce4b1f083bb0c3d01a2963dae47ca4937e4b93acf/diff\",\n",
      "                \"WorkDir\": \"/var/lib/docker/overlay2/8df5db860ca5d93cfe37a7fce4b1f083bb0c3d01a2963dae47ca4937e4b93acf/work\"\n",
      "            },\n",
      "            \"Name\": \"overlay2\"\n",
      "        },\n",
      "        \"Mounts\": [],\n",
      "        \"Config\": {\n",
      "            \"Hostname\": \"b183806b1c7e\",\n",
      "            \"Domainname\": \"\",\n",
      "            \"User\": \"\",\n",
      "            \"AttachStdin\": true,\n",
      "            \"AttachStdout\": true,\n",
      "            \"AttachStderr\": true,\n",
      "            \"Tty\": true,\n",
      "            \"OpenStdin\": true,\n",
      "            \"StdinOnce\": true,\n",
      "            \"Env\": [\n",
      "                \"PATH=/usr/local/sbin:/usr/local/bin:/usr/sbin:/usr/bin:/sbin:/bin\"\n",
      "            ],\n",
      "            \"Cmd\": [\n",
      "                \"/bin/sh\"\n",
      "            ],\n",
      "            \"Image\": \"diamol/base\",\n",
      "            \"Volumes\": null,\n",
      "            \"WorkingDir\": \"\",\n",
      "            \"Entrypoint\": null,\n",
      "            \"OnBuild\": null,\n",
      "            \"Labels\": {}\n",
      "        },\n",
      "        \"NetworkSettings\": {\n",
      "            \"Bridge\": \"\",\n",
      "            \"SandboxID\": \"\",\n",
      "            \"SandboxKey\": \"\",\n",
      "            \"Ports\": {},\n",
      "            \"HairpinMode\": false,\n",
      "            \"LinkLocalIPv6Address\": \"\",\n",
      "            \"LinkLocalIPv6PrefixLen\": 0,\n",
      "            \"SecondaryIPAddresses\": null,\n",
      "            \"SecondaryIPv6Addresses\": null,\n",
      "            \"EndpointID\": \"\",\n",
      "            \"Gateway\": \"\",\n",
      "            \"GlobalIPv6Address\": \"\",\n",
      "            \"GlobalIPv6PrefixLen\": 0,\n",
      "            \"IPAddress\": \"\",\n",
      "            \"IPPrefixLen\": 0,\n",
      "            \"IPv6Gateway\": \"\",\n",
      "            \"MacAddress\": \"\",\n",
      "            \"Networks\": {\n",
      "                \"bridge\": {\n",
      "                    \"IPAMConfig\": null,\n",
      "                    \"Links\": null,\n",
      "                    \"Aliases\": null,\n",
      "                    \"MacAddress\": \"\",\n",
      "                    \"DriverOpts\": null,\n",
      "                    \"GwPriority\": 0,\n",
      "                    \"NetworkID\": \"808fadc320ece2ece9af43ff6cd2e06dd6cdf67360addf152e5b547507cc7840\",\n",
      "                    \"EndpointID\": \"\",\n",
      "                    \"Gateway\": \"\",\n",
      "                    \"IPAddress\": \"\",\n",
      "                    \"IPPrefixLen\": 0,\n",
      "                    \"IPv6Gateway\": \"\",\n",
      "                    \"GlobalIPv6Address\": \"\",\n",
      "                    \"GlobalIPv6PrefixLen\": 0,\n",
      "                    \"DNSNames\": null\n",
      "                }\n",
      "            }\n",
      "        }\n",
      "    }\n",
      "]\n"
     ]
    }
   ],
   "source": [
    "!docker container inspect b1"
   ]
  },
  {
   "cell_type": "markdown",
   "id": "765ffa04",
   "metadata": {},
   "source": [
    "### List all containers (running and stopped)"
   ]
  },
  {
   "cell_type": "code",
   "execution_count": 5,
   "id": "8f021e1a",
   "metadata": {
    "vscode": {
     "languageId": "shellscript"
    }
   },
   "outputs": [
    {
     "name": "stdout",
     "output_type": "stream",
     "text": [
      "CONTAINER ID   IMAGE                      COMMAND                 CREATED      STATUS                       PORTS     NAMES\n",
      "b183806b1c7e   diamol/base                \"/bin/sh\"               2 days ago   Exited (255) 6 minutes ago             reverent_heyrovsky\n",
      "b36c9db1a179   diamol/base                \"/bin/sh\"               2 days ago   Exited (255) 6 minutes ago             sleepy_gagarin\n",
      "f3792e43000d   diamol/base                \"/bin/sh\"               2 days ago   Exited (255) 6 minutes ago             goofy_hodgkin\n",
      "4980a9df8cb4   diamol/base                \"/bin/sh\"               2 days ago   Exited (255) 6 minutes ago             naughty_faraday\n",
      "470d432c7d60   diamol/base                \"/bin/sh\"               2 days ago   Exited (255) 6 minutes ago             modest_aryabhata\n",
      "df53b2405390   diamol/base                \"/bin/sh\"               2 days ago   Exited (255) 6 minutes ago             nice_swanson\n",
      "2e1b85b8ae00   diamol/ch02-hello-diamol   \"/bin/sh -c ./cmd.sh\"   2 days ago   Exited (0) 2 days ago                  nervous_bardeen\n",
      "26026da1c851   diamol/ch02-hello-diamol   \"/bin/sh -c ./cmd.sh\"   2 days ago   Exited (0) 2 days ago                  modest_keller\n"
     ]
    }
   ],
   "source": [
    "!docker container ls --all"
   ]
  },
  {
   "cell_type": "markdown",
   "id": "97c2a16b",
   "metadata": {},
   "source": [
    "###  Run container in background with port mapping"
   ]
  },
  {
   "cell_type": "code",
   "execution_count": 17,
   "id": "a7ccdf2a",
   "metadata": {
    "vscode": {
     "languageId": "shellscript"
    }
   },
   "outputs": [
    {
     "name": "stdout",
     "output_type": "stream",
     "text": [
      "Unable to find image 'diamol/ch02-hello-diamol-web:latest' locally\n",
      "latest: Pulling from diamol/ch02-hello-diamol-web\n",
      "\n",
      "\u001b[1Bab65f19f: Pulling fs layer \n",
      "\u001b[1B9b7246e5: Pulling fs layer \n",
      "\u001b[1Bdc11ea39: Pulling fs layer \n",
      "\u001b[1Bc8441234: Pulling fs layer \n",
      "\u001b[1B24848396: Pulling fs layer \n",
      "\u001b[1B90cfff46: Pull complete  380B/380B8MBB\u001b[6A\u001b[2K\u001b[6A\u001b[2K\u001b[6A\u001b[2K\u001b[6A\u001b[2K\u001b[6A\u001b[2K\u001b[6A\u001b[2K\u001b[6A\u001b[2K\u001b[6A\u001b[2K\u001b[2A\u001b[2K\u001b[6A\u001b[2K\u001b[3A\u001b[2K\u001b[3A\u001b[2K\u001b[3A\u001b[2K\u001b[3A\u001b[2K\u001b[6A\u001b[2K\u001b[3A\u001b[2K\u001b[6A\u001b[2K\u001b[3A\u001b[2K\u001b[6A\u001b[2K\u001b[6A\u001b[2K\u001b[3A\u001b[2K\u001b[6A\u001b[2K\u001b[3A\u001b[2K\u001b[6A\u001b[2K\u001b[6A\u001b[2K\u001b[3A\u001b[2K\u001b[6A\u001b[2K\u001b[6A\u001b[2K\u001b[3A\u001b[2K\u001b[6A\u001b[2K\u001b[6A\u001b[2K\u001b[3A\u001b[2K\u001b[6A\u001b[2K\u001b[6A\u001b[2K\u001b[3A\u001b[2K\u001b[6A\u001b[2K\u001b[6A\u001b[2K\u001b[6A\u001b[2K\u001b[6A\u001b[2K\u001b[3A\u001b[2K\u001b[6A\u001b[2K\u001b[6A\u001b[2K\u001b[3A\u001b[2K\u001b[6A\u001b[2K\u001b[6A\u001b[2K\u001b[3A\u001b[2K\u001b[6A\u001b[2K\u001b[3A\u001b[2K\u001b[6A\u001b[2K\u001b[6A\u001b[2K\u001b[6A\u001b[2K\u001b[6A\u001b[2K\u001b[6A\u001b[2K\u001b[3A\u001b[2K\u001b[6A\u001b[2K\u001b[6A\u001b[2K\u001b[6A\u001b[2K\u001b[6A\u001b[2K\u001b[6A\u001b[2K\u001b[6A\u001b[2K\u001b[3A\u001b[2K\u001b[6A\u001b[2K\u001b[6A\u001b[2K\u001b[6A\u001b[2K\u001b[6A\u001b[2K\u001b[6A\u001b[2K\u001b[6A\u001b[2K\u001b[6A\u001b[2K\u001b[6A\u001b[2K\u001b[6A\u001b[2K\u001b[3A\u001b[2K\u001b[6A\u001b[2K\u001b[6A\u001b[2K\u001b[6A\u001b[2K\u001b[6A\u001b[2K\u001b[3A\u001b[2K\u001b[6A\u001b[2K\u001b[6A\u001b[2K\u001b[6A\u001b[2K\u001b[6A\u001b[2K\u001b[3A\u001b[2K\u001b[6A\u001b[2K\u001b[6A\u001b[2K\u001b[6A\u001b[2K\u001b[6A\u001b[2K\u001b[6A\u001b[2K\u001b[3A\u001b[2K\u001b[6A\u001b[2K\u001b[6A\u001b[2K\u001b[6A\u001b[2K\u001b[6A\u001b[2K\u001b[3A\u001b[2K\u001b[6A\u001b[2K\u001b[6A\u001b[2K\u001b[6A\u001b[2K\u001b[6A\u001b[2K\u001b[6A\u001b[2K\u001b[6A\u001b[2K\u001b[6A\u001b[2K\u001b[6A\u001b[2K\u001b[6A\u001b[2K\u001b[5A\u001b[2K\u001b[5A\u001b[2K\u001b[4A\u001b[2K\u001b[3A\u001b[2K\u001b[3A\u001b[2K\u001b[3A\u001b[2K\u001b[3A\u001b[2K\u001b[3A\u001b[2K\u001b[3A\u001b[2K\u001b[3A\u001b[2K\u001b[3A\u001b[2K\u001b[3A\u001b[2K\u001b[3A\u001b[2K\u001b[3A\u001b[2K\u001b[3A\u001b[2K\u001b[3A\u001b[2K\u001b[3A\u001b[2K\u001b[3A\u001b[2K\u001b[3A\u001b[2K\u001b[3A\u001b[2K\u001b[3A\u001b[2K\u001b[3A\u001b[2K\u001b[3A\u001b[2K\u001b[3A\u001b[2K\u001b[3A\u001b[2K\u001b[3A\u001b[2K\u001b[3A\u001b[2K\u001b[3A\u001b[2K\u001b[3A\u001b[2K\u001b[3A\u001b[2K\u001b[3A\u001b[2K\u001b[3A\u001b[2K\u001b[3A\u001b[2K\u001b[3A\u001b[2K\u001b[3A\u001b[2K\u001b[3A\u001b[2K\u001b[3A\u001b[2K\u001b[3A\u001b[2K\u001b[3A\u001b[2K\u001b[3A\u001b[2K\u001b[3A\u001b[2K\u001b[3A\u001b[2K\u001b[3A\u001b[2K\u001b[3A\u001b[2K\u001b[3A\u001b[2K\u001b[3A\u001b[2K\u001b[3A\u001b[2K\u001b[3A\u001b[2K\u001b[3A\u001b[2K\u001b[3A\u001b[2K\u001b[3A\u001b[2K\u001b[3A\u001b[2K\u001b[3A\u001b[2K\u001b[3A\u001b[2K\u001b[3A\u001b[2K\u001b[3A\u001b[2K\u001b[3A\u001b[2K\u001b[3A\u001b[2K\u001b[3A\u001b[2K\u001b[3A\u001b[2K\u001b[3A\u001b[2K\u001b[3A\u001b[2K\u001b[3A\u001b[2K\u001b[3A\u001b[2K\u001b[3A\u001b[2K\u001b[3A\u001b[2K\u001b[3A\u001b[2K\u001b[3A\u001b[2K\u001b[3A\u001b[2K\u001b[3A\u001b[2K\u001b[3A\u001b[2K\u001b[3A\u001b[2K\u001b[3A\u001b[2K\u001b[3A\u001b[2K\u001b[3A\u001b[2K\u001b[3A\u001b[2K\u001b[3A\u001b[2K\u001b[3A\u001b[2K\u001b[3A\u001b[2K\u001b[3A\u001b[2K\u001b[3A\u001b[2K\u001b[3A\u001b[2K\u001b[3A\u001b[2K\u001b[2A\u001b[2KDigest: sha256:fe5a4c954fe2df5cadeea304ab632533f8ece9e31bd219ea22fdbf8b597571eb\n",
      "Status: Downloaded newer image for diamol/ch02-hello-diamol-web:latest\n",
      "100d8e30df3511bda9630ce3f2677469ec3231eae6056c8dd9f51b539f9e62be\n"
     ]
    }
   ],
   "source": [
    "!docker container run --detach --publish 8088:80 diamol/ch02-hello-diamol-web"
   ]
  },
  {
   "cell_type": "code",
   "execution_count": 18,
   "id": "3a492493",
   "metadata": {
    "vscode": {
     "languageId": "shellscript"
    }
   },
   "outputs": [
    {
     "name": "stdout",
     "output_type": "stream",
     "text": [
      "CONTAINER ID   IMAGE                          COMMAND              CREATED          STATUS          PORTS                  NAMES\n",
      "100d8e30df35   diamol/ch02-hello-diamol-web   \"httpd-foreground\"   12 seconds ago   Up 11 seconds   0.0.0.0:8088->80/tcp   wonderful_mclean\n"
     ]
    }
   ],
   "source": [
    "!docker container ls"
   ]
  },
  {
   "cell_type": "code",
   "execution_count": 2,
   "id": "94fc06b3",
   "metadata": {
    "vscode": {
     "languageId": "shellscript"
    }
   },
   "outputs": [
    {
     "name": "stdout",
     "output_type": "stream",
     "text": [
      "34683a2862869d3b01c93cd1d453b1db383c05307757cc7cb020aec0ff60209c\n"
     ]
    }
   ],
   "source": [
    "!docker container run --detach --publish 8088:80 diamol/ch02-hello-diamol-web"
   ]
  },
  {
   "cell_type": "markdown",
   "id": "edd47c63",
   "metadata": {},
   "source": [
    "### Output"
   ]
  },
  {
   "cell_type": "code",
   "execution_count": null,
   "id": "5c1c5c93",
   "metadata": {},
   "outputs": [
    {
     "data": {
      "image/png": "[encoded data removed]",
      "text/plain": [
       "<IPython.core.display.Image object>"
      ]
     },
     "metadata": {},
     "output_type": "display_data"
    }
   ],
   "source": [
    "from IPython.display import Image, display\n",
    "\n",
    "display(Image(filename=\"images/ch02_1_T.png\"))"
   ]
  },
  {
   "cell_type": "markdown",
   "id": "442298b1",
   "metadata": {},
   "source": [
    "###  Display live resource usage of containers"
   ]
  },
  {
   "cell_type": "code",
   "execution_count": 14,
   "id": "e8cc0fb3",
   "metadata": {
    "vscode": {
     "languageId": "shellscript"
    }
   },
   "outputs": [
    {
     "name": "stdout",
     "output_type": "stream",
     "text": [
      "\u001b[HCONTAINER ID   NAME                CPU %     MEM USAGE / LIMIT     MEM %     NET I/O           BLOCK I/O        PIDS\n",
      "34683a286286   optimistic_colden   0.01%     8.078MiB / 3.822GiB   0.21%     3.93kB / 1.52kB   4.26MB / 4.1kB   82\n",
      "\u001b[HCONTAINER ID   NAME                CPU %     MEM USAGE / LIMIT     MEM %     NET I/O           BLOCK I/O        PIDS \u001b[K\n",
      "34683a286286   optimistic_colden   0.01%     8.078MiB / 3.822GiB   0.21%     3.93kB / 1.52kB   4.26MB / 4.1kB   82 \u001b[K\n",
      " \u001b[K\n",
      "\u001b[J^C\n"
     ]
    }
   ],
   "source": [
    "!docker container stats"
   ]
  },
  {
   "cell_type": "markdown",
   "id": "ee71da7f",
   "metadata": {},
   "source": [
    "###  Force remove all containers"
   ]
  },
  {
   "cell_type": "code",
   "execution_count": 15,
   "id": "24ed7dbc",
   "metadata": {
    "vscode": {
     "languageId": "shellscript"
    }
   },
   "outputs": [
    {
     "name": "stdout",
     "output_type": "stream",
     "text": [
      "34683a286286\n",
      "100d8e30df35\n",
      "abfee0b7b63e\n",
      "08e268f85f16\n",
      "18e6c9a7c97e\n",
      "a5a4ebdfc683\n",
      "52ee8468ad44\n",
      "b183806b1c7e\n",
      "b36c9db1a179\n",
      "f3792e43000d\n",
      "4980a9df8cb4\n",
      "470d432c7d60\n",
      "df53b2405390\n",
      "2e1b85b8ae00\n",
      "26026da1c851\n"
     ]
    }
   ],
   "source": [
    "!docker container rm --force $(docker container ls --all --quiet)"
   ]
  },
  {
   "cell_type": "code",
   "execution_count": 16,
   "id": "919a163c",
   "metadata": {
    "vscode": {
     "languageId": "shellscript"
    }
   },
   "outputs": [
    {
     "name": "stdout",
     "output_type": "stream",
     "text": [
      "CONTAINER ID   IMAGE     COMMAND   CREATED   STATUS    PORTS     NAMES\n"
     ]
    }
   ],
   "source": [
    "!docker container ls"
   ]
  }
 ],
 "metadata": {
  "kernelspec": {
   "display_name": "Python 3",
   "language": "python",
   "name": "python3"
  },
  "language_info": {
   "codemirror_mode": {
    "name": "ipython",
    "version": 3
   },
   "file_extension": ".py",
   "mimetype": "text/x-python",
   "name": "python",
   "nbconvert_exporter": "python",
   "pygments_lexer": "ipython3",
   "version": "3.12.3"
  }
 },
 "nbformat": 4,
 "nbformat_minor": 5
}
